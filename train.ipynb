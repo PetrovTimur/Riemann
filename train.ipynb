{
 "cells": [
  {
   "metadata": {
    "ExecuteTime": {
     "end_time": "2025-06-01T18:19:20.476708Z",
     "start_time": "2025-06-01T18:19:19.457671Z"
    }
   },
   "cell_type": "code",
   "source": [
    "import time\n",
    "\n",
    "import torch\n",
    "import torch.nn as nn\n",
    "from anyio import sleep\n",
    "from numba.cuda.printimpl import print_item\n",
    "from numpy import character\n",
    "from torch.utils.data import Dataset, DataLoader, TensorDataset\n",
    "import torch.optim as optim\n",
    "import matplotlib.pyplot as plt\n",
    "from tqdm import tqdm\n",
    "from IPython.display import clear_output"
   ],
   "id": "d6e1193fe73185fa",
   "outputs": [],
   "execution_count": 1
  },
  {
   "metadata": {
    "ExecuteTime": {
     "end_time": "2025-06-01T18:19:20.488153Z",
     "start_time": "2025-06-01T18:19:20.485365Z"
    }
   },
   "cell_type": "code",
   "source": [
    "from solvers import riemann_solver_newton\n",
    "\n",
    "import numpy as np\n",
    "import pandas as pd\n",
    "import seaborn as sns"
   ],
   "id": "5516bbeb6630cc0d",
   "outputs": [],
   "execution_count": 2
  },
  {
   "metadata": {
    "ExecuteTime": {
     "end_time": "2025-06-01T18:21:01.826561Z",
     "start_time": "2025-06-01T18:20:52.736361Z"
    }
   },
   "cell_type": "code",
   "source": [
    "from generate import generate_balanced_training_data, generate_training_data\n",
    "\n",
    "# Generate training data\n",
    "num_samples = 4000\n",
    "data = generate_balanced_training_data(riemann_solver_newton, num_samples_per_category=num_samples)\n",
    "# data = generate_balanced_training_data(riemann_solver_newton, num_samples_per_category=num_samples)\n",
    "\n",
    "# Save to CSV file\n",
    "path = 'datasets/riemann_training_data_balanced2.csv'\n",
    "data.to_csv(path, index=False)\n",
    "print(f\"Generated {num_samples} training samples and saved to '{path}'\")\n"
   ],
   "id": "884b55f896f52186",
   "outputs": [
    {
     "name": "stdout",
     "output_type": "stream",
     "text": [
      "Generated 4000 training samples and saved to 'datasets/riemann_training_data_balanced2.csv'\n"
     ]
    }
   ],
   "execution_count": 5
  },
  {
   "metadata": {
    "ExecuteTime": {
     "end_time": "2025-06-01T18:22:17.254382Z",
     "start_time": "2025-06-01T18:22:17.215518Z"
    }
   },
   "cell_type": "code",
   "source": [
    "from sklearn.model_selection import train_test_split\n",
    "\n",
    "# Read the CSV file into a pandas DataFrame\n",
    "df = pd.read_csv('datasets/riemann_training_data_balanced2.csv')  # Replace with your actual file path\n",
    "\n",
    "# Select category\n",
    "df = df[df['category'] != 8]\n",
    "\n",
    "# Define input features and output features\n",
    "X = df[['hL', 'huL', 'hR', 'huR']]\n",
    "# X['ghL'] = np.sqrt(9.8066 * df['hL'])\n",
    "# X['ghR'] = np.sqrt(9.8066 * df['hR'])\n",
    "y = df[['h_star', 'u_star']]\n",
    "\n",
    "# Split the data into training and validation sets\n",
    "# train_X, val_X, train_y, val_y = train_test_split(X, y, test_size=0.2, random_state=42)\n",
    "train_X, val_X, train_y, val_y = train_test_split(X, y, test_size=0.2, random_state=42, stratify=df['category'])\n",
    "\n",
    "print(f\"Training input shape: {train_X.shape}\")\n",
    "print(f\"Validation input shape: {val_X.shape}\")\n",
    "print(f\"Training output shape: {train_y.shape}\")\n",
    "print(f\"Validation output shape: {val_y.shape}\")\n"
   ],
   "id": "af37d3c833fa2056",
   "outputs": [
    {
     "name": "stdout",
     "output_type": "stream",
     "text": [
      "Training input shape: (25600, 4)\n",
      "Validation input shape: (6400, 4)\n",
      "Training output shape: (25600, 2)\n",
      "Validation output shape: (6400, 2)\n"
     ]
    }
   ],
   "execution_count": 12
  },
  {
   "metadata": {
    "ExecuteTime": {
     "end_time": "2025-06-01T18:22:00.614709Z",
     "start_time": "2025-06-01T18:22:00.608464Z"
    }
   },
   "cell_type": "code",
   "source": "df['category'].value_counts()",
   "id": "eaa684a75fe86fee",
   "outputs": [
    {
     "data": {
      "text/plain": [
       "category\n",
       "0    4000\n",
       "1    4000\n",
       "2    4000\n",
       "3    4000\n",
       "4    4000\n",
       "5    4000\n",
       "6    4000\n",
       "7    4000\n",
       "Name: count, dtype: int64"
      ]
     },
     "execution_count": 8,
     "metadata": {},
     "output_type": "execute_result"
    }
   ],
   "execution_count": 8
  },
  {
   "metadata": {
    "ExecuteTime": {
     "end_time": "2025-06-01T18:22:20.493141Z",
     "start_time": "2025-06-01T18:22:20.481658Z"
    }
   },
   "cell_type": "code",
   "source": [
    "# df = pd.read_csv('datasets/riemann_training_data3.csv')\n",
    "g = 9.806\n",
    "df['uL'] = df['huL'] / df['hL']\n",
    "df['uR'] = df['huR'] / df['hR']\n",
    "df['cL'] = (df['hL'] * g) ** 0.5\n",
    "df['cR'] = (df['hR'] * g) ** 0.5\n",
    "df.head()"
   ],
   "id": "7dc1c6bb76fa936",
   "outputs": [
    {
     "data": {
      "text/plain": [
       "         hL       huL        hR       huR    h_star     u_star  iter  \\\n",
       "0  0.500077 -8.133558  0.475049 -4.151462  0.009489 -12.445685     1   \n",
       "1  0.586884 -8.598580  1.737754 -8.504657  0.069284 -11.501745     1   \n",
       "2  1.522519 -9.177891  0.990116 -5.574348  1.171972  -5.080319     3   \n",
       "3  0.150738 -2.477218  0.410214 -1.505786  0.254574 -10.842184     1   \n",
       "4  1.560180 -8.439641  1.263517 -9.649840  1.856689  -6.122482     3   \n",
       "\n",
       "   category         uL        uR        cL        cR  \n",
       "0         0 -16.264610 -8.739016  2.214443  2.158317  \n",
       "1         0 -14.651237 -4.894052  2.398955  4.128003  \n",
       "2         0  -6.028096 -5.629997  3.863913  3.115939  \n",
       "3         0 -16.433899 -3.670730  1.215788  2.005633  \n",
       "4         0  -5.409401 -7.637285  3.911410  3.519950  "
      ],
      "text/html": [
       "<div>\n",
       "<style scoped>\n",
       "    .dataframe tbody tr th:only-of-type {\n",
       "        vertical-align: middle;\n",
       "    }\n",
       "\n",
       "    .dataframe tbody tr th {\n",
       "        vertical-align: top;\n",
       "    }\n",
       "\n",
       "    .dataframe thead th {\n",
       "        text-align: right;\n",
       "    }\n",
       "</style>\n",
       "<table border=\"1\" class=\"dataframe\">\n",
       "  <thead>\n",
       "    <tr style=\"text-align: right;\">\n",
       "      <th></th>\n",
       "      <th>hL</th>\n",
       "      <th>huL</th>\n",
       "      <th>hR</th>\n",
       "      <th>huR</th>\n",
       "      <th>h_star</th>\n",
       "      <th>u_star</th>\n",
       "      <th>iter</th>\n",
       "      <th>category</th>\n",
       "      <th>uL</th>\n",
       "      <th>uR</th>\n",
       "      <th>cL</th>\n",
       "      <th>cR</th>\n",
       "    </tr>\n",
       "  </thead>\n",
       "  <tbody>\n",
       "    <tr>\n",
       "      <th>0</th>\n",
       "      <td>0.500077</td>\n",
       "      <td>-8.133558</td>\n",
       "      <td>0.475049</td>\n",
       "      <td>-4.151462</td>\n",
       "      <td>0.009489</td>\n",
       "      <td>-12.445685</td>\n",
       "      <td>1</td>\n",
       "      <td>0</td>\n",
       "      <td>-16.264610</td>\n",
       "      <td>-8.739016</td>\n",
       "      <td>2.214443</td>\n",
       "      <td>2.158317</td>\n",
       "    </tr>\n",
       "    <tr>\n",
       "      <th>1</th>\n",
       "      <td>0.586884</td>\n",
       "      <td>-8.598580</td>\n",
       "      <td>1.737754</td>\n",
       "      <td>-8.504657</td>\n",
       "      <td>0.069284</td>\n",
       "      <td>-11.501745</td>\n",
       "      <td>1</td>\n",
       "      <td>0</td>\n",
       "      <td>-14.651237</td>\n",
       "      <td>-4.894052</td>\n",
       "      <td>2.398955</td>\n",
       "      <td>4.128003</td>\n",
       "    </tr>\n",
       "    <tr>\n",
       "      <th>2</th>\n",
       "      <td>1.522519</td>\n",
       "      <td>-9.177891</td>\n",
       "      <td>0.990116</td>\n",
       "      <td>-5.574348</td>\n",
       "      <td>1.171972</td>\n",
       "      <td>-5.080319</td>\n",
       "      <td>3</td>\n",
       "      <td>0</td>\n",
       "      <td>-6.028096</td>\n",
       "      <td>-5.629997</td>\n",
       "      <td>3.863913</td>\n",
       "      <td>3.115939</td>\n",
       "    </tr>\n",
       "    <tr>\n",
       "      <th>3</th>\n",
       "      <td>0.150738</td>\n",
       "      <td>-2.477218</td>\n",
       "      <td>0.410214</td>\n",
       "      <td>-1.505786</td>\n",
       "      <td>0.254574</td>\n",
       "      <td>-10.842184</td>\n",
       "      <td>1</td>\n",
       "      <td>0</td>\n",
       "      <td>-16.433899</td>\n",
       "      <td>-3.670730</td>\n",
       "      <td>1.215788</td>\n",
       "      <td>2.005633</td>\n",
       "    </tr>\n",
       "    <tr>\n",
       "      <th>4</th>\n",
       "      <td>1.560180</td>\n",
       "      <td>-8.439641</td>\n",
       "      <td>1.263517</td>\n",
       "      <td>-9.649840</td>\n",
       "      <td>1.856689</td>\n",
       "      <td>-6.122482</td>\n",
       "      <td>3</td>\n",
       "      <td>0</td>\n",
       "      <td>-5.409401</td>\n",
       "      <td>-7.637285</td>\n",
       "      <td>3.911410</td>\n",
       "      <td>3.519950</td>\n",
       "    </tr>\n",
       "  </tbody>\n",
       "</table>\n",
       "</div>"
      ]
     },
     "execution_count": 13,
     "metadata": {},
     "output_type": "execute_result"
    }
   ],
   "execution_count": 13
  },
  {
   "metadata": {
    "ExecuteTime": {
     "end_time": "2025-04-18T14:50:59.904595Z",
     "start_time": "2025-04-18T14:50:59.901265Z"
    }
   },
   "cell_type": "code",
   "source": "len(df)",
   "id": "efd1906ab813bcbc",
   "outputs": [
    {
     "data": {
      "text/plain": [
       "8000"
      ]
     },
     "execution_count": 10,
     "metadata": {},
     "output_type": "execute_result"
    }
   ],
   "execution_count": 10
  },
  {
   "metadata": {
    "ExecuteTime": {
     "end_time": "2025-06-01T18:22:26.128230Z",
     "start_time": "2025-06-01T18:22:25.992772Z"
    }
   },
   "cell_type": "code",
   "source": [
    "# Assuming `df` is your DataFrame\n",
    "# Define the conditions for rows (uL, cL) and columns (uR, cR)\n",
    "row_conditions = [\n",
    "    df['uL'] < -df['cL'],\n",
    "    (df['uL'] >= -df['cL']) & (df['uL'] <= df['cL']),\n",
    "    df['uL'] > df['cL']\n",
    "]\n",
    "\n",
    "col_conditions = [\n",
    "    df['uR'] < -df['cR'],\n",
    "    (df['uR'] >= -df['cR']) & (df['uR'] <= df['cR']),\n",
    "    df['uR'] > df['cR']\n",
    "]\n",
    "\n",
    "# Create a 3x3 matrix to store counts\n",
    "heatmap_data = np.zeros((3, 3))\n",
    "\n",
    "# Calculate counts for each combination of conditions\n",
    "for i, row_cond in enumerate(row_conditions):\n",
    "    for j, col_cond in enumerate(col_conditions):\n",
    "        heatmap_data[i, j] = df[row_cond & col_cond].shape[0]\n",
    "\n",
    "# Plot the heatmap\n",
    "plt.figure(figsize=(8, 6))\n",
    "sns.heatmap(heatmap_data, annot=True, fmt=\".0f\", cmap=\"YlGnBu\", xticklabels=['uR < -cR', '-cR < uR < cR', 'uR > cR'], yticklabels=['uL < -cL', '-cL < uL < cL', 'uL > cL'])\n",
    "plt.title(\"Heatmap of Conditions\")\n",
    "plt.xlabel(\"Right Conditions (uR, cR)\")\n",
    "plt.ylabel(\"Left Conditions (uL, cL)\")\n",
    "plt.show()"
   ],
   "id": "80a95ecbaf4db4c5",
   "outputs": [
    {
     "data": {
      "text/plain": [
       "<Figure size 800x600 with 2 Axes>"
      ],
      "image/png": "[encoded data removed]"
     },
     "metadata": {},
     "output_type": "display_data"
    }
   ],
   "execution_count": 14
  },
  {
   "metadata": {
    "ExecuteTime": {
     "end_time": "2025-06-01T18:22:28.055261Z",
     "start_time": "2025-06-01T18:22:28.051860Z"
    }
   },
   "cell_type": "code",
   "source": [
    "# Convert pandas DataFrames to PyTorch tensors\n",
    "train_X_tensor = torch.tensor(train_X.values, dtype=torch.float32)\n",
    "val_X_tensor = torch.tensor(val_X.values, dtype=torch.float32)\n",
    "train_y_tensor = torch.tensor(train_y.values, dtype=torch.float32)\n",
    "val_y_tensor = torch.tensor(val_y.values, dtype=torch.float32)\n",
    "\n",
    "# Create TensorDatasets\n",
    "train_dataset = TensorDataset(train_X_tensor, train_y_tensor)\n",
    "val_dataset = TensorDataset(val_X_tensor, val_y_tensor)\n",
    "\n",
    "print(f\"Training dataset size: {len(train_dataset)}\")\n",
    "print(f\"Validation dataset size: {len(val_dataset)}\")\n"
   ],
   "id": "69aff8af0d212503",
   "outputs": [
    {
     "name": "stdout",
     "output_type": "stream",
     "text": [
      "Training dataset size: 25600\n",
      "Validation dataset size: 6400\n"
     ]
    }
   ],
   "execution_count": 15
  },
  {
   "metadata": {
    "ExecuteTime": {
     "end_time": "2025-06-01T18:22:30.564366Z",
     "start_time": "2025-06-01T18:22:30.556392Z"
    }
   },
   "cell_type": "code",
   "source": "train_dataset[0]",
   "id": "a5a03694bd4a56b5",
   "outputs": [
    {
     "data": {
      "text/plain": [
       "(tensor([ 0.2490, -2.3495,  3.8115, -2.7505]), tensor([ 0.2807, -9.6309]))"
      ]
     },
     "execution_count": 16,
     "metadata": {},
     "output_type": "execute_result"
    }
   ],
   "execution_count": 16
  },
  {
   "metadata": {
    "ExecuteTime": {
     "end_time": "2025-06-01T18:22:43.822713Z",
     "start_time": "2025-06-01T18:22:43.819748Z"
    }
   },
   "cell_type": "code",
   "source": [
    "# Define batch size\n",
    "batch_size = 64\n",
    "\n",
    "# Create DataLoaders\n",
    "train_loader = DataLoader(train_dataset, batch_size=batch_size, shuffle=True)\n",
    "val_loader = DataLoader(val_dataset, batch_size=batch_size, shuffle=False)\n",
    "\n",
    "print(f\"Training DataLoader batches: {len(train_loader)}\")\n",
    "print(f\"Validation DataLoader batches: {len(val_loader)}\")"
   ],
   "id": "d331093253581724",
   "outputs": [
    {
     "name": "stdout",
     "output_type": "stream",
     "text": [
      "Training DataLoader batches: 400\n",
      "Validation DataLoader batches: 100\n"
     ]
    }
   ],
   "execution_count": 17
  },
  {
   "metadata": {
    "ExecuteTime": {
     "end_time": "2025-06-01T18:22:56.657641Z",
     "start_time": "2025-06-01T18:22:56.655462Z"
    }
   },
   "cell_type": "code",
   "source": "from torch.nn.functional import relu, elu, batch_norm",
   "id": "c8644cb9708bea8b",
   "outputs": [],
   "execution_count": 18
  },
  {
   "metadata": {
    "ExecuteTime": {
     "end_time": "2025-06-01T18:22:57.443731Z",
     "start_time": "2025-06-01T18:22:57.437413Z"
    }
   },
   "cell_type": "code",
   "source": [
    "class MLP(nn.Module):\n",
    "    def __init__(self, input_features):\n",
    "        super(MLP, self).__init__()\n",
    "        self.layer1 = nn.Linear(input_features, 20)\n",
    "        self.layer2 = nn.Linear(20, 20)\n",
    "        self.layer3 = nn.Linear(20, 20)\n",
    "        self.layer4 = nn.Linear(20, 20)\n",
    "        self.layer5 = nn.Linear(20, 2)\n",
    "        self.activation = elu\n",
    "        # self.bn = nn.BatchNorm1d(4)\n",
    "\n",
    "    def forward(self, x):\n",
    "        # if x.dim() == 1:\n",
    "        #     x = x.unsqueeze(1)\n",
    "        # x = self.bn(x)\n",
    "        x = self.activation(self.layer1(x))\n",
    "        x = self.activation(self.layer2(x))\n",
    "        x = self.activation(self.layer3(x))\n",
    "        x = self.activation(self.layer4(x))\n",
    "        x = self.layer5(x)\n",
    "        return x\n",
    "\n",
    "# Example usage\n",
    "input_features = 4  # Specify the number of input features\n",
    "model = MLP(input_features)\n",
    "\n",
    "print(model)\n"
   ],
   "id": "8fd981ff0040fa9e",
   "outputs": [
    {
     "name": "stdout",
     "output_type": "stream",
     "text": [
      "MLP(\n",
      "  (layer1): Linear(in_features=4, out_features=20, bias=True)\n",
      "  (layer2): Linear(in_features=20, out_features=20, bias=True)\n",
      "  (layer3): Linear(in_features=20, out_features=20, bias=True)\n",
      "  (layer4): Linear(in_features=20, out_features=20, bias=True)\n",
      "  (layer5): Linear(in_features=20, out_features=2, bias=True)\n",
      ")\n"
     ]
    }
   ],
   "execution_count": 19
  },
  {
   "metadata": {
    "ExecuteTime": {
     "end_time": "2025-06-01T18:23:00.173869Z",
     "start_time": "2025-06-01T18:23:00.148517Z"
    }
   },
   "cell_type": "code",
   "source": [
    "device = torch.device('cuda' if torch.cuda.is_available() else 'cpu')\n",
    "device"
   ],
   "id": "4d73be536e2eb5e8",
   "outputs": [
    {
     "data": {
      "text/plain": [
       "device(type='cuda')"
      ]
     },
     "execution_count": 20,
     "metadata": {},
     "output_type": "execute_result"
    }
   ],
   "execution_count": 20
  },
  {
   "metadata": {
    "ExecuteTime": {
     "end_time": "2025-05-30T20:51:35.647084Z",
     "start_time": "2025-05-30T20:51:35.642028Z"
    }
   },
   "cell_type": "code",
   "source": [
    "class MSE_Loss_Scaled(torch.nn.Module):\n",
    "    \"\"\"\n",
    "    Mean-squared error loss with custom scaling factors\n",
    "    for each label component.\n",
    "    \"\"\"\n",
    "\n",
    "    def __init__(self):\n",
    "        super().__init__()\n",
    "        # self.register_buffer(\"scaling_factors\", torch.tensor(scaling_factors))\n",
    "\n",
    "    def forward(self, input, target, scale):\n",
    "        mse = torch.mean((input - target) ** 2, dim=0)\n",
    "        mse = torch.dot(scale, mse)\n",
    "        return mse"
   ],
   "id": "4d6dee983db100bc",
   "outputs": [],
   "execution_count": 64
  },
  {
   "metadata": {
    "ExecuteTime": {
     "end_time": "2025-06-01T18:23:05.684227Z",
     "start_time": "2025-06-01T18:23:05.674985Z"
    }
   },
   "cell_type": "code",
   "source": [
    "class MSE_Loss_Scaled(torch.nn.Module):\n",
    "    \"\"\"\n",
    "    Mean-squared error loss with custom scaling factors\n",
    "    for each label component.\n",
    "    \"\"\"\n",
    "    def __init__(self, scaling_factors): # Pass factors during initialization\n",
    "        super().__init__()\n",
    "        # Register as a buffer so it moves with the model to device\n",
    "        # and is saved/loaded with the model's state_dict.\n",
    "        self.register_buffer(\"scaling_factors\", torch.tensor(scaling_factors, dtype=torch.float32))\n",
    "\n",
    "    def forward(self, input, target): # No 'scale' argument needed here\n",
    "        mse_per_output = torch.mean((input - target) ** 2, dim=0)\n",
    "        # Apply the pre-defined scaling factors\n",
    "        # print(self.scaling_factors.device, mse_per_output.device)\n",
    "        weighted_mse = self.scaling_factors * mse_per_output\n",
    "        return weighted_mse.sum() # Sum up the weighted MSEs"
   ],
   "id": "3da9eebf69e6477d",
   "outputs": [],
   "execution_count": 21
  },
  {
   "metadata": {
    "ExecuteTime": {
     "end_time": "2025-06-01T18:23:13.105470Z",
     "start_time": "2025-06-01T18:23:13.102743Z"
    }
   },
   "cell_type": "code",
   "source": [
    "train_y_tensor_std = train_y_tensor.std(dim=0)\n",
    "my_scaling_factors = 1.0 / (train_y_tensor_std ** 2)"
   ],
   "id": "d06858b857b10589",
   "outputs": [],
   "execution_count": 22
  },
  {
   "metadata": {
    "ExecuteTime": {
     "end_time": "2025-06-01T18:23:14.819476Z",
     "start_time": "2025-06-01T18:23:14.815503Z"
    }
   },
   "cell_type": "code",
   "source": "my_scaling_factors",
   "id": "21d135ef96b1d778",
   "outputs": [
    {
     "data": {
      "text/plain": [
       "tensor([0.0790, 0.0105])"
      ]
     },
     "execution_count": 23,
     "metadata": {},
     "output_type": "execute_result"
    }
   ],
   "execution_count": 23
  },
  {
   "metadata": {
    "ExecuteTime": {
     "end_time": "2025-06-01T18:23:17.957840Z",
     "start_time": "2025-06-01T18:23:17.906727Z"
    }
   },
   "cell_type": "code",
   "source": [
    "from torch.utils.tensorboard import SummaryWriter\n",
    "from tqdm.auto import tqdm, trange"
   ],
   "id": "a10df926dcd59242",
   "outputs": [],
   "execution_count": 24
  },
  {
   "metadata": {
    "ExecuteTime": {
     "end_time": "2025-06-01T18:23:21.365561Z",
     "start_time": "2025-06-01T18:23:21.359545Z"
    }
   },
   "cell_type": "code",
   "source": [
    "def train_model(model, train_dataloader, val_dataloader, num_epochs=10, learning_rate=0.001):\n",
    "    # criterion = nn.MSELoss()\n",
    "    criterion = MSE_Loss_Scaled(my_scaling_factors.tolist()).to(device)\n",
    "    optimizer = optim.Adam(model.parameters(), lr=learning_rate)\n",
    "\n",
    "    writer = SummaryWriter()\n",
    "\n",
    "    train_losses = []\n",
    "    val_losses = []\n",
    "\n",
    "    pbar = trange(num_epochs)\n",
    "\n",
    "    for epoch in pbar:\n",
    "        running_loss = 0.0\n",
    "        model.train()\n",
    "        for inputs, targets in train_dataloader:\n",
    "            optimizer.zero_grad()\n",
    "\n",
    "            outputs = model(inputs.to(device))\n",
    "            # loss = criterion(outputs, targets.to(device), 1. / targets.std(dim=0).to(device))\n",
    "            loss = criterion(outputs, targets.to(device))\n",
    "            # print(loss.shape, loss, targets.std(dim=0).shape)\n",
    "            # loss /= targets.std(dim=0)\n",
    "            loss.backward()\n",
    "\n",
    "            # torch.nn.utils.clip_grad_norm_(model.parameters(), max_norm=1)\n",
    "            optimizer.step()\n",
    "\n",
    "            running_loss += loss.item() * inputs.size(0)\n",
    "\n",
    "        epoch_train_loss = running_loss / len(train_dataloader.dataset)\n",
    "        train_losses.append(epoch_train_loss)\n",
    "\n",
    "        model.eval()\n",
    "        for inputs, targets in val_dataloader:\n",
    "            outputs = model(inputs.to(device))\n",
    "            # loss = criterion(outputs, targets.to(device), 1. / targets.std(dim=0).to(device))\n",
    "            loss = criterion(outputs, targets.to(device))\n",
    "\n",
    "            running_loss += loss.item() * inputs.size(0)\n",
    "\n",
    "        epoch_val_loss = running_loss / len(val_dataloader.dataset)\n",
    "        val_losses.append(epoch_val_loss)\n",
    "\n",
    "\n",
    "        # Log losses to TensorBoard\n",
    "        writer.add_scalar('Loss/Train', epoch_train_loss, epoch)\n",
    "        writer.add_scalar('Loss/Validation', epoch_val_loss, epoch)\n",
    "\n",
    "        if ((epoch + 1) % 10) == 0:\n",
    "            # tqdm.write(f'Epoch {epoch+1}/{num_epochs}, Train Loss: {epoch_train_loss:.4f}, Val Loss: {epoch_val_loss:.4f}')\n",
    "            pbar.set_description(desc=f'Epoch {epoch+1}/{num_epochs}, Train Loss: {epoch_train_loss:.4f}, Val Loss: {epoch_val_loss:.4f}')"
   ],
   "id": "7c07a3995de82436",
   "outputs": [],
   "execution_count": 25
  },
  {
   "metadata": {
    "ExecuteTime": {
     "end_time": "2025-06-01T18:25:10.456123Z",
     "start_time": "2025-06-01T18:23:32.750891Z"
    }
   },
   "cell_type": "code",
   "source": [
    "model = MLP(input_features)\n",
    "# criterion = nn.MSELoss()\n",
    "optimizer = optim.Adam(model.parameters(), lr=0.001)\n",
    "train_model(model.to(device), train_loader, val_loader, num_epochs=200)"
   ],
   "id": "e4041e89f1e0c02c",
   "outputs": [
    {
     "data": {
      "text/plain": [
       "  0%|          | 0/200 [00:00<?, ?it/s]"
      ],
      "application/vnd.jupyter.widget-view+json": {
       "version_major": 2,
       "version_minor": 0,
       "model_id": "bc0cba8e889a4a12af33c3c0c50e377b"
      }
     },
     "metadata": {},
     "output_type": "display_data"
    }
   ],
   "execution_count": 26
  },
  {
   "metadata": {
    "ExecuteTime": {
     "end_time": "2025-06-01T18:25:39.038658Z",
     "start_time": "2025-06-01T18:25:39.019586Z"
    }
   },
   "cell_type": "code",
   "source": "torch.save(model.state_dict(), 'checkpoints/model_ood_1.pt')",
   "id": "e68cc6dd15bca4b7",
   "outputs": [],
   "execution_count": 27
  },
  {
   "metadata": {},
   "cell_type": "code",
   "source": "model.eval()",
   "id": "a61941aa50801061",
   "outputs": [],
   "execution_count": null
  },
  {
   "metadata": {
    "ExecuteTime": {
     "end_time": "2025-06-01T18:26:27.310188Z",
     "start_time": "2025-06-01T18:26:27.305570Z"
    }
   },
   "cell_type": "code",
   "source": [
    "inputs = train_dataset[0]\n",
    "# inputs = torch.tensor([[5, 0, 5, 0], [2, 1, 2, 1]], dtype=torch.float32)\n",
    "inputs"
   ],
   "id": "5643ff1de6306e01",
   "outputs": [
    {
     "data": {
      "text/plain": [
       "(tensor([ 0.2490, -2.3495,  3.8115, -2.7505]), tensor([ 0.2807, -9.6309]))"
      ]
     },
     "execution_count": 35,
     "metadata": {},
     "output_type": "execute_result"
    }
   ],
   "execution_count": 35
  },
  {
   "metadata": {
    "ExecuteTime": {
     "end_time": "2025-06-01T18:26:27.663837Z",
     "start_time": "2025-06-01T18:26:27.659499Z"
    }
   },
   "cell_type": "code",
   "source": [
    "out = inputs[1]\n",
    "out"
   ],
   "id": "1bccd2f35f737455",
   "outputs": [
    {
     "data": {
      "text/plain": [
       "tensor([ 0.2807, -9.6309])"
      ]
     },
     "execution_count": 36,
     "metadata": {},
     "output_type": "execute_result"
    }
   ],
   "execution_count": 36
  },
  {
   "metadata": {},
   "cell_type": "code",
   "source": "out.mean(dim=0)",
   "id": "d7316234b0b52cea",
   "outputs": [],
   "execution_count": null
  },
  {
   "metadata": {
    "ExecuteTime": {
     "end_time": "2025-06-01T18:26:29.226938Z",
     "start_time": "2025-06-01T18:26:29.210662Z"
    }
   },
   "cell_type": "code",
   "source": [
    "model.to(device)\n",
    "model(inputs[0].to(device))"
   ],
   "id": "87f7c667caccad16",
   "outputs": [
    {
     "data": {
      "text/plain": [
       "tensor([ 0.1974, -9.9333], device='cuda:0', grad_fn=<ViewBackward0>)"
      ]
     },
     "execution_count": 37,
     "metadata": {},
     "output_type": "execute_result"
    }
   ],
   "execution_count": 37
  },
  {
   "metadata": {
    "ExecuteTime": {
     "end_time": "2025-03-31T08:17:07.516145Z",
     "start_time": "2025-03-31T08:17:07.513647Z"
    }
   },
   "cell_type": "code",
   "source": "model = None",
   "id": "af19007f28d61b60",
   "outputs": [],
   "execution_count": 8
  },
  {
   "metadata": {
    "ExecuteTime": {
     "end_time": "2025-03-18T07:34:54.861038Z",
     "start_time": "2025-03-18T07:34:54.857080Z"
    }
   },
   "cell_type": "code",
   "source": [
    "import solvers as ssh\n",
    "from importlib import reload\n",
    "reload(ssh)"
   ],
   "id": "a6371dc9e566ca57",
   "outputs": [
    {
     "data": {
      "text/plain": [
       "<module 'shallow' from '/home/timur/Coding/Riemann/shallow.py'>"
      ]
     },
     "execution_count": 64,
     "metadata": {},
     "output_type": "execute_result"
    }
   ],
   "execution_count": 64
  },
  {
   "metadata": {
    "ExecuteTime": {
     "end_time": "2025-05-29T22:15:39.261221Z",
     "start_time": "2025-05-29T22:15:39.258622Z"
    }
   },
   "cell_type": "code",
   "source": "from solvers import GodunovSolver, CabaretSolver, RiemannSolver",
   "id": "c1b24e5ee5f5737f",
   "outputs": [],
   "execution_count": 57
  },
  {
   "metadata": {},
   "cell_type": "code",
   "outputs": [],
   "execution_count": null,
   "source": [
    "from order import plot\n",
    "\n"
   ],
   "id": "bd68cc015da2bf08"
  },
  {
   "metadata": {
    "ExecuteTime": {
     "end_time": "2025-05-29T22:15:43.439016Z",
     "start_time": "2025-05-29T22:15:43.432761Z"
    }
   },
   "cell_type": "code",
   "source": [
    "t_end = 2  # Simulation end time\n",
    "def compute(h, hu, solver_scheme='godunov'):\n",
    "    if solver_scheme == 'godunov_classic' or solver_scheme == 'godunov_iter' or solver_scheme == 'godunov_newton' or solver_scheme == 'godunov_nn':\n",
    "        solver = GodunovSolver(solver_func=solver_scheme[8:], model=model if model is not None else None)\n",
    "    else:\n",
    "        solver = CabaretSolver(solver_func=solver_scheme[8:], model=model if model is not None else None)\n",
    "\n",
    "\n",
    "    t = 0.0\n",
    "    times = []\n",
    "    while t < t_end:\n",
    "        times.append(t)\n",
    "        u = np.where(h > 0, hu / h, 0)\n",
    "        c = np.sqrt(g * h)\n",
    "        dt = CFL * dx / (np.max(np.abs(u) + c))  # Adaptive time step\n",
    "\n",
    "        if solver_scheme == 'godunov_classic':\n",
    "            h, hu = solver.step(h, hu, dx, dt)\n",
    "        elif solver_scheme == 'godunov_iter':\n",
    "            h, hu = solver.step(h, hu, dx, dt)\n",
    "        elif solver_scheme == 'godunov_newton':\n",
    "            h, hu = solver.step(h, hu, dx, dt)\n",
    "        elif solver_scheme == 'godunov_nn':\n",
    "            h, hu = solver.step(h, hu, dx, dt)\n",
    "        elif solver_scheme == 'cabaret_classic':\n",
    "            h, hu = solver.step(h, hu, dx, dt)\n",
    "        elif solver_scheme == 'cabaret_nn':\n",
    "            h, hu = solver.step(h, hu, dx, dt)\n",
    "        else:\n",
    "            raise ValueError(f\"Unknown solver scheme: {solver_scheme}\")\n",
    "\n",
    "        t += dt.item()\n",
    "\n",
    "    # print(times)\n",
    "    return h, hu"
   ],
   "id": "5fa231479b872491",
   "outputs": [],
   "execution_count": 58
  },
  {
   "metadata": {
    "ExecuteTime": {
     "end_time": "2025-05-29T22:15:46.754348Z",
     "start_time": "2025-05-29T22:15:46.750667Z"
    }
   },
   "cell_type": "code",
   "source": [
    "# Simulation setup\n",
    "L = 10.0  # Domain length (m)\n",
    "nx = 100  # Number of spatial points\n",
    "dx = L / nx  # Spatial resolution\n",
    "g = 9.8066  # Gravitational acceleration (m/s^2)\n",
    "CFL = 0.5  # CFL condition\n",
    "\n",
    "# Initial conditions\n",
    "h = np.ones(nx)\n",
    "h[:nx//2] = 2  # Step in water depth\n",
    "# h[nx // 4:nx //2] = 10  # Step in water depth\n",
    "u = np.ones(nx)\n",
    "hu = h * u  # Momentum (initially zero)\n",
    "# hu[:nx // 5] = 2.5\n",
    "print(h, hu, sep='\\n')"
   ],
   "id": "f724e4ad73048c66",
   "outputs": [
    {
     "name": "stdout",
     "output_type": "stream",
     "text": [
      "[2. 2. 2. 2. 2. 2. 2. 2. 2. 2. 2. 2. 2. 2. 2. 2. 2. 2. 2. 2. 2. 2. 2. 2.\n",
      " 2. 2. 2. 2. 2. 2. 2. 2. 2. 2. 2. 2. 2. 2. 2. 2. 2. 2. 2. 2. 2. 2. 2. 2.\n",
      " 2. 2. 1. 1. 1. 1. 1. 1. 1. 1. 1. 1. 1. 1. 1. 1. 1. 1. 1. 1. 1. 1. 1. 1.\n",
      " 1. 1. 1. 1. 1. 1. 1. 1. 1. 1. 1. 1. 1. 1. 1. 1. 1. 1. 1. 1. 1. 1. 1. 1.\n",
      " 1. 1. 1. 1.]\n",
      "[2. 2. 2. 2. 2. 2. 2. 2. 2. 2. 2. 2. 2. 2. 2. 2. 2. 2. 2. 2. 2. 2. 2. 2.\n",
      " 2. 2. 2. 2. 2. 2. 2. 2. 2. 2. 2. 2. 2. 2. 2. 2. 2. 2. 2. 2. 2. 2. 2. 2.\n",
      " 2. 2. 1. 1. 1. 1. 1. 1. 1. 1. 1. 1. 1. 1. 1. 1. 1. 1. 1. 1. 1. 1. 1. 1.\n",
      " 1. 1. 1. 1. 1. 1. 1. 1. 1. 1. 1. 1. 1. 1. 1. 1. 1. 1. 1. 1. 1. 1. 1. 1.\n",
      " 1. 1. 1. 1.]\n"
     ]
    }
   ],
   "execution_count": 59
  },
  {
   "metadata": {
    "ExecuteTime": {
     "end_time": "2025-05-29T22:15:49.020576Z",
     "start_time": "2025-05-29T22:15:49.012179Z"
    }
   },
   "cell_type": "code",
   "source": [
    "new_h = np.zeros((2 * h.shape[0] - 1))\n",
    "new_hu = np.zeros((2 * hu.shape[0] - 1))\n",
    "\n",
    "new_h[::2] = h\n",
    "new_h[1::2] = (h[:-1] + h[1:]) / 2\n",
    "\n",
    "new_hu[::2] = hu\n",
    "new_hu[1::2] = (hu[:-1] + hu[1:]) / 2"
   ],
   "id": "9ec929e16c87147",
   "outputs": [],
   "execution_count": 60
  },
  {
   "metadata": {
    "ExecuteTime": {
     "end_time": "2025-05-29T22:15:57.029584Z",
     "start_time": "2025-05-29T22:15:56.897010Z"
    }
   },
   "cell_type": "code",
   "source": "h_cabaret, hu_cabaret = compute(new_h.copy(), new_hu.copy(), solver_scheme='cabaret_classic')",
   "id": "fb9155742a8e5fac",
   "outputs": [
    {
     "name": "stdout",
     "output_type": "stream",
     "text": [
      "Cabaret solver:  classic\n"
     ]
    },
    {
     "name": "stderr",
     "output_type": "stream",
     "text": [
      "/home/timur/Coding/Riemann/solvers.py:285: RuntimeWarning: invalid value encountered in sqrt\n",
      "  neg_char_new = u - 2 * np.sqrt(self.g * h)\n",
      "/home/timur/Coding/Riemann/solvers.py:286: RuntimeWarning: invalid value encountered in sqrt\n",
      "  pos_char_new = u + 2 * np.sqrt(self.g * h)\n",
      "/home/timur/Coding/Riemann/solvers.py:289: RuntimeWarning: invalid value encountered in scalar power\n",
      "  lambda_left_neg = u[i - 1] - (self.g * h[i - 1]) ** 0.5\n",
      "/home/timur/Coding/Riemann/solvers.py:290: RuntimeWarning: invalid value encountered in scalar power\n",
      "  lambda_left_pos = u[i - 1] + (self.g * h[i - 1]) ** 0.5\n"
     ]
    }
   ],
   "execution_count": 61
  },
  {
   "metadata": {
    "ExecuteTime": {
     "end_time": "2025-05-29T22:16:03.478989Z",
     "start_time": "2025-05-29T22:16:03.474795Z"
    }
   },
   "cell_type": "code",
   "source": [
    "def plot_vals(axes, x, h, hu):\n",
    "    axes[0].plot(x, h, label='s Method', linestyle='-', color='green')\n",
    "    axes[0].set_ylabel('Water Depth (h)')\n",
    "    axes[0].legend()\n",
    "    axes[0].grid()\n",
    "    axes[0].set_title('Water Depth (h) Comparison')\n",
    "\n",
    "    axes[1].plot(x, hu, label='s Method', linestyle='-', color='green')\n",
    "    axes[1].set_ylabel('Water Depth (h)')\n",
    "    axes[1].legend()\n",
    "    axes[1].grid()\n",
    "    axes[1].set_title('Water Depth (h) Comparison')\n",
    "    plt.show()"
   ],
   "id": "47e81e743cdcda80",
   "outputs": [],
   "execution_count": 62
  },
  {
   "metadata": {
    "ExecuteTime": {
     "end_time": "2025-05-29T19:52:33.368037Z",
     "start_time": "2025-05-29T19:52:33.366210Z"
    }
   },
   "cell_type": "code",
   "source": "model = None",
   "id": "cbdb6c1ed22a62bb",
   "outputs": [],
   "execution_count": 12
  },
  {
   "metadata": {
    "ExecuteTime": {
     "end_time": "2025-05-29T22:31:06.683393Z",
     "start_time": "2025-05-29T22:31:03.509250Z"
    }
   },
   "cell_type": "code",
   "source": [
    "# h_approx, hu_approx = compute(h, hu, solver=0)\n",
    "# h_iter, hu_iter = compute(h, hu, solver_scheme='godunov_iter')\n",
    "h_newton, hu_newton = compute(h.copy(), hu.copy(), solver_scheme='godunov_newton')\n",
    "# print('------------')\n",
    "# h_cabaret, hu_cabaret = compute(new_h.copy(), new_hu.copy(), solver_scheme='cabaret_classic')\n",
    "# h_cabaret_nn, hu_cabaret_nn = compute(new_h.copy(), new_hu.copy(), solver_scheme='cabaret_nn')\n",
    "h_nn, hu_nn = compute(h, hu, solver_scheme='godunov_nn')\n",
    "# Add a call to the cabaret solver\n",
    "# h_cabaret, hu_cabaret = compute(h, hu, solver_scheme='cabaret')\n",
    "\n",
    "\n",
    "# Plot final results using subplots\n",
    "x = np.linspace(0, L, nx)\n",
    "\n",
    "fig, axes = plt.subplots(2, 1, figsize=(10, 10), sharex=True)\n",
    "\n",
    "# Plot water depth (h)\n",
    "# axes[0].plot(x, h_approx, label='Approximate Solve', linestyle='-', color='blue')\n",
    "# axes[0].plot(x, h_iter, label='Iterative Solver', linestyle='-', color='orange')\n",
    "axes[0].plot(x, h_newton, label='Godunov Solver with Newton\\'s Method', linestyle='-', color='green')\n",
    "# axes[0].plot(x, h_cabaret[::2], label='Classic Cabaret\\'s Method', linestyle='-', color='yellow')\n",
    "# axes[0].plot(x, h_cabaret_nn[::2], label='NN Cabaret\\'s Method', linestyle='-', color='blue')\n",
    "axes[0].plot(x, h_nn, label='NN', linestyle='-', color='red')\n",
    "axes[0].set_ylabel('Water Depth (h)')\n",
    "axes[0].legend()\n",
    "axes[0].grid()\n",
    "axes[0].set_title('Water Depth (h) Comparison')\n",
    "\n",
    "# Plot momentum (hu)\n",
    "# axes[1].plot(x, hu_approx, label='Approximate Solver', linestyle='-', color='blue')\n",
    "# axes[1].plot(x, hu_iter, label='Iterative Solver', linestyle='-', color='orange')\n",
    "axes[1].plot(x, hu_newton, label='Godunov Solver with Newton\\'s Method', linestyle='-', color='green')\n",
    "# axes[1].plot(x, hu_cabaret[::2], label='Classic Cabaret\\'s Method', linestyle='-', color='yellow')\n",
    "# axes[1].plot(x, hu_cabaret_nn[::2], label='NN Cabaret\\'s Method', linestyle='-', color='xkcd:sky blue')\n",
    "axes[1].plot(x, hu_nn, label='NN', linestyle='-', color='red')\n",
    "axes[1].set_ylabel('Momentum (hu)')\n",
    "axes[1].legend()\n",
    "axes[1].grid()\n",
    "axes[1].set_title('Momentum (hu) Comparison')\n",
    "\n",
    "# Adjust layout\n",
    "plt.tight_layout()\n",
    "\n",
    "\n",
    "# Save the plot as a PNG file\n",
    "plt.savefig('myplot.png')\n",
    "\n",
    "plt.show()"
   ],
   "id": "85cd2d110937c78d",
   "outputs": [
    {
     "name": "stdout",
     "output_type": "stream",
     "text": [
      "newton\n",
      "nn\n"
     ]
    },
    {
     "name": "stderr",
     "output_type": "stream",
     "text": [
      "/tmp/ipykernel_73387/2510774633.py:13: RuntimeWarning: divide by zero encountered in divide\n",
      "  u = np.where(h > 0, hu / h, 0)\n",
      "/home/timur/Coding/Riemann/solvers.py:203: RuntimeWarning: overflow encountered in scalar multiply\n",
      "  F_h = h_star * u_star\n",
      "/home/timur/Coding/Riemann/solvers.py:247: RuntimeWarning: overflow encountered in cast\n",
      "  hu_new[i] -= dt / dx * (hu_flux[i] - hu_flux[i - 1])\n",
      "/home/timur/Coding/Riemann/solvers.py:246: RuntimeWarning: invalid value encountered in scalar subtract\n",
      "  h_new[i] -= dt / dx * (h_flux[i] - h_flux[i - 1])\n",
      "/tmp/ipykernel_73387/2510774633.py:13: RuntimeWarning: invalid value encountered in divide\n",
      "  u = np.where(h > 0, hu / h, 0)\n"
     ]
    },
    {
     "data": {
      "text/plain": [
       "<Figure size 1000x1000 with 2 Axes>"
      ],
      "image/png": "[encoded data removed]"
     },
     "metadata": {},
     "output_type": "display_data"
    }
   ],
   "execution_count": 68
  },
  {
   "metadata": {},
   "cell_type": "code",
   "source": "h_cabaret",
   "id": "943df885de9db4c8",
   "outputs": [],
   "execution_count": null
  },
  {
   "metadata": {},
   "cell_type": "code",
   "source": "riemann_solver_newton(1, 1, 2, -1)",
   "id": "c2c48a38c6fdd953",
   "outputs": [],
   "execution_count": null
  },
  {
   "metadata": {},
   "cell_type": "code",
   "source": "riemann_solver_newton(2, 1, 4, -1)",
   "id": "72207f24e513951d",
   "outputs": [],
   "execution_count": null
  },
  {
   "metadata": {
    "ExecuteTime": {
     "end_time": "2025-05-31T18:34:27.214711Z",
     "start_time": "2025-05-31T18:34:26.343450Z"
    }
   },
   "cell_type": "code",
   "source": [
    "from models import *\n",
    "import torch"
   ],
   "id": "85e161e519c85299",
   "outputs": [],
   "execution_count": 1
  },
  {
   "metadata": {
    "ExecuteTime": {
     "end_time": "2025-05-31T18:34:27.320416Z",
     "start_time": "2025-05-31T18:34:27.220187Z"
    }
   },
   "cell_type": "code",
   "source": "model = load_nn('nn', path='checkpoints/model_2.pt')",
   "id": "b230b16ab2380857",
   "outputs": [],
   "execution_count": 2
  },
  {
   "metadata": {
    "ExecuteTime": {
     "end_time": "2025-05-30T21:20:05.035509Z",
     "start_time": "2025-05-30T21:20:05.018215Z"
    }
   },
   "cell_type": "code",
   "source": [
    "inputs = torch.tensor([1, 0, 1.5, 0], dtype=torch.float).to('cuda')\n",
    "model(inputs)"
   ],
   "id": "262ac21bc95c2bc2",
   "outputs": [
    {
     "data": {
      "text/plain": [
       "tensor([ 1.2869, -0.6917], device='cuda:0', grad_fn=<ViewBackward0>)"
      ]
     },
     "execution_count": 108,
     "metadata": {},
     "output_type": "execute_result"
    }
   ],
   "execution_count": 108
  },
  {
   "metadata": {
    "ExecuteTime": {
     "end_time": "2025-05-30T21:20:09.859334Z",
     "start_time": "2025-05-30T21:20:09.854574Z"
    }
   },
   "cell_type": "code",
   "source": [
    "inputs = torch.tensor([1.5, 0, 2, 0], dtype=torch.float).to('cuda')\n",
    "model(inputs)"
   ],
   "id": "76a12a6e61cfae63",
   "outputs": [
    {
     "data": {
      "text/plain": [
       "tensor([ 1.7780, -0.5530], device='cuda:0', grad_fn=<ViewBackward0>)"
      ]
     },
     "execution_count": 109,
     "metadata": {},
     "output_type": "execute_result"
    }
   ],
   "execution_count": 109
  },
  {
   "metadata": {
    "ExecuteTime": {
     "end_time": "2025-05-30T21:20:14.285664Z",
     "start_time": "2025-05-30T21:20:14.275709Z"
    }
   },
   "cell_type": "code",
   "source": [
    "inputs = torch.tensor([1, 0, 1, 0], dtype=torch.float).to('cuda')\n",
    "model(inputs)"
   ],
   "id": "a63859f6f6e8f1e6",
   "outputs": [
    {
     "data": {
      "text/plain": [
       "tensor([1.0495, 0.0116], device='cuda:0', grad_fn=<ViewBackward0>)"
      ]
     },
     "execution_count": 110,
     "metadata": {},
     "output_type": "execute_result"
    }
   ],
   "execution_count": 110
  },
  {
   "metadata": {
    "ExecuteTime": {
     "end_time": "2025-05-30T21:20:17.529354Z",
     "start_time": "2025-05-30T21:20:17.524405Z"
    }
   },
   "cell_type": "code",
   "source": [
    "inputs = torch.tensor([2, 0, 2, 0], dtype=torch.float).to('cuda')\n",
    "model(inputs)"
   ],
   "id": "df3f074632fdd66c",
   "outputs": [
    {
     "data": {
      "text/plain": [
       "tensor([2.0240, 0.0415], device='cuda:0', grad_fn=<ViewBackward0>)"
      ]
     },
     "execution_count": 111,
     "metadata": {},
     "output_type": "execute_result"
    }
   ],
   "execution_count": 111
  },
  {
   "metadata": {
    "ExecuteTime": {
     "end_time": "2025-05-31T22:41:16.358654Z",
     "start_time": "2025-05-31T22:41:16.353707Z"
    }
   },
   "cell_type": "code",
   "source": "from solvers import riemann_solver_newton",
   "id": "307d10000e1e2ca1",
   "outputs": [],
   "execution_count": 3
  },
  {
   "metadata": {
    "ExecuteTime": {
     "end_time": "2025-05-30T20:25:40.163249Z",
     "start_time": "2025-05-30T20:25:40.159688Z"
    }
   },
   "cell_type": "code",
   "source": "riemann_solver_newton(3.9004723969779596,1.6745589456260106,7.104538780549098,4.969326175030133)",
   "id": "40d794730c70ad70",
   "outputs": [
    {
     "data": {
      "text/plain": [
       "{'flux': array([ -8.47817395, 150.17954414,   5.27735406,  -1.60651983]),\n",
       " 'star': array([ 5.27735406, -1.60651983]),\n",
       " 'data': array([2]),\n",
       " 'velocity': array([None, None, 6.740417932848074, 5.5874290401043085], dtype=object)}"
      ]
     },
     "execution_count": 20,
     "metadata": {},
     "output_type": "execute_result"
    }
   ],
   "execution_count": 20
  },
  {
   "metadata": {
    "ExecuteTime": {
     "end_time": "2025-05-31T22:44:23.767035Z",
     "start_time": "2025-05-31T22:44:23.762930Z"
    }
   },
   "cell_type": "code",
   "source": "riemann_solver_newton(1, 1, 2, 1)",
   "id": "8d0fd3ad03e2d90a",
   "outputs": [
    {
     "data": {
      "text/plain": [
       "{'flux': array([-0.86924168, 12.2611741 ,  1.5495649 , -0.56095855]),\n",
       " 'star': array([ 1.5495649 , -0.56095855]),\n",
       " 'data': array([3]),\n",
       " 'velocity': array([None, None, 3.8677207139459924, 3.3372414402389974], dtype=object)}"
      ]
     },
     "execution_count": 13,
     "metadata": {},
     "output_type": "execute_result"
    }
   ],
   "execution_count": 13
  },
  {
   "metadata": {
    "ExecuteTime": {
     "end_time": "2025-05-31T22:44:41.812274Z",
     "start_time": "2025-05-31T22:44:41.806876Z"
    }
   },
   "cell_type": "code",
   "source": "riemann_solver_newton(2, 2, 4, 2)['star']",
   "id": "79c86c365117f7f",
   "outputs": [
    {
     "data": {
      "text/plain": [
       "array([ 1.52127747, -0.55076185])"
      ]
     },
     "execution_count": 15,
     "metadata": {},
     "output_type": "execute_result"
    }
   ],
   "execution_count": 15
  },
  {
   "metadata": {
    "ExecuteTime": {
     "end_time": "2025-05-30T20:36:18.943624Z",
     "start_time": "2025-05-30T20:36:18.926920Z"
    }
   },
   "cell_type": "code",
   "source": [
    "for i in range(100):\n",
    "    hL, huL, hR, huR = map(lambda x: x.item(), train_X_tensor[i])\n",
    "    # print(hL, huL, hR, huR)\n",
    "    solution = riemann_solver_newton(hL, huL, hR, huR)\n",
    "    print(solution if not np.allclose(solution['flux'][2:], solution['star']) else None)"
   ],
   "id": "bf1781f24b70c630",
   "outputs": [
    {
     "name": "stdout",
     "output_type": "stream",
     "text": [
      "None\n",
      "None\n",
      "None\n",
      "None\n",
      "None\n",
      "None\n",
      "{'flux': array([9.56872559e+00, 3.05259017e+02, 3.00379008e-01, 3.18555070e+01]), 'star': array([7.13310236, 3.67426162]), 'data': array([5]), 'velocity': array([2.4353625712230738, None, None, None], dtype=object)}\n",
      "{'flux': array([ 7.99737913, 51.34848792,  1.86835315,  4.28044297]), 'star': array([1.78267758, 4.47903116]), 'data': array([1]), 'velocity': array([-1.1020771089855153, 0.29788228373724035, None, None], dtype=object)}\n",
      "None\n",
      "None\n",
      "None\n",
      "{'flux': array([ -5.00753117,  80.15916867,   0.31472665, -15.91073128]), 'star': array([ 3.6140794 , -2.33267283]), 'data': array([5]), 'velocity': array([None, None, -1.0374561026536835, None], dtype=object)}\n",
      "{'flux': array([ 20.93625269, 185.26612356,   3.54889497,   5.89937229]), 'star': array([3.19948926, 6.49524022]), 'data': array([3]), 'velocity': array([-2.287057192373056, 0.8938018831246888, None, None], dtype=object)}\n",
      "None\n",
      "None\n",
      "None\n",
      "None\n",
      "None\n",
      "None\n",
      "{'flux': array([-0.99017841,  9.14781529,  0.10785139, -9.18095207]), 'star': array([ 1.05928944e-02, -1.05931903e+01]), 'data': array([1]), 'velocity': array([None, None, -9.564766546041001, -10.27088565717113], dtype=object)}\n",
      "None\n",
      "None\n",
      "None\n",
      "None\n",
      "None\n",
      "None\n",
      "{'flux': array([ -8.69211292, 328.90121381,   8.07271957,  -1.07672673]), 'star': array([ 2.26376504, -9.4484337 ]), 'data': array([3]), 'velocity': array([None, None, -0.5509097923553057, -4.7367632814373], dtype=object)}\n",
      "None\n",
      "{'flux': array([ -7.47911978, 205.4512965 ,   0.27274942, -27.421212  ]), 'star': array([21.75409095,  5.0616099 ]), 'data': array([1]), 'velocity': array([3.426145281893443, 19.66755622914947, None, None], dtype=object)}\n",
      "None\n",
      "None\n",
      "None\n",
      "None\n",
      "{'flux': array([  6.69316292, 299.57185637,   7.74051905,   0.86469174]), 'star': array([  3.8401272 , -28.83368695]), 'data': array([1]), 'velocity': array([None, None, -20.121157228068213, -34.97034657328305], dtype=object)}\n",
      "None\n",
      "None\n",
      "None\n",
      "None\n",
      "None\n",
      "{'flux': array([  9.64702225, 131.24170035,   4.77390814,   2.02078087]), 'star': array([1.55731683, 7.8893195 ]), 'data': array([2]), 'velocity': array([1.0471116972805277, 3.9813810091751503, None, None], dtype=object)}\n",
      "{'flux': array([8.94084167e+00, 1.56798818e+03, 5.09820804e-02, 1.75372241e+02]), 'star': array([15.342192  , 25.16263533]), 'data': array([6]), 'velocity': array([24.661830017317527, None, None, None], dtype=object)}\n",
      "None\n",
      "{'flux': array([9.82966518e+00, 3.28247018e+03, 2.94358935e-02, 3.33934663e+02]), 'star': array([24.73251259, 14.91683316]), 'data': array([7]), 'velocity': array([14.53669536256075, None, None, None], dtype=object)}\n",
      "None\n",
      "None\n",
      "None\n",
      "None\n",
      "None\n",
      "{'flux': array([ 21.97666912, 197.64230285,   3.66551577,   5.99551891]), 'star': array([3.01825983, 7.1055886 ]), 'data': array([3]), 'velocity': array([-1.2557482974587524, 1.6651045332950556, None, None], dtype=object)}\n",
      "None\n",
      "None\n",
      "None\n",
      "None\n",
      "{'flux': array([-7.60766398e-03,  6.50754069e+01,  3.64304185e+00, -2.08827246e-03]), 'star': array([ 0.72581269, -6.62048588]), 'data': array([1]), 'velocity': array([None, None, -0.6433750219358361, -3.952573825207887], dtype=object)}\n",
      "None\n",
      "None\n",
      "None\n",
      "None\n",
      "None\n",
      "{'flux': array([  6.7344079 , 216.05265805,   6.53041792,   1.0312369 ]), 'star': array([  0.31810315, -11.44148468]), 'data': array([1]), 'velocity': array([None, None, -3.4389103255607267, -9.675271115463248], dtype=object)}\n",
      "None\n",
      "None\n",
      "None\n",
      "None\n",
      "None\n",
      "None\n",
      "None\n",
      "None\n",
      "None\n",
      "None\n",
      "None\n",
      "None\n",
      "None\n",
      "None\n",
      "None\n",
      "None\n",
      "None\n",
      "None\n",
      "None\n",
      "{'flux': array([1.21533312e-01, 2.86689406e+02, 7.64645481e+00, 1.58940731e-02]), 'star': array([ 1.82250873, -8.84776253]), 'data': array([3]), 'velocity': array([None, None, -0.18833276752802952, -4.620161067337683], dtype=object)}\n",
      "None\n",
      "None\n",
      "None\n",
      "None\n",
      "None\n",
      "{'flux': array([ 4.30765867, 57.14902741,  3.23830009,  1.3302222 ]), 'star': array([ 0.02876718, 11.53856404]), 'data': array([1]), 'velocity': array([5.903254496743508, 11.007425413854765, None, None], dtype=object)}\n",
      "None\n",
      "{'flux': array([ -5.98092651, 105.64381101,   4.4621172 ,  -1.34037863]), 'star': array([0.60318066, 7.02540047]), 'data': array([1]), 'velocity': array([0.4104024755861042, 4.593292024173585, None, None], dtype=object)}\n",
      "None\n",
      "None\n",
      "None\n",
      "None\n",
      "None\n",
      "None\n",
      "None\n",
      "None\n",
      "None\n",
      "{'flux': array([-15.18206565, 120.69943379,   2.86449294,  -5.30008835]), 'star': array([ 2.33491366, -6.32998514]), 'data': array([3]), 'velocity': array([None, None, 1.9465717338504467, -1.5448451865573212], dtype=object)}\n",
      "None\n",
      "None\n"
     ]
    }
   ],
   "execution_count": 52
  }
 ],
 "metadata": {
  "kernelspec": {
   "display_name": "Python 3",
   "language": "python",
   "name": "python3"
  },
  "language_info": {
   "codemirror_mode": {
    "name": "ipython",
    "version": 2
   },
   "file_extension": ".py",
   "mimetype": "text/x-python",
   "name": "python",
   "nbconvert_exporter": "python",
   "pygments_lexer": "ipython2",
   "version": "2.7.6"
  }
 },
 "nbformat": 4,
 "nbformat_minor": 5
}
