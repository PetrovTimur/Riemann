{
 "cells": [
  {
   "metadata": {
    "ExecuteTime": {
     "end_time": "2024-12-26T01:00:39.713823Z",
     "start_time": "2024-12-26T01:00:38.532580Z"
    }
   },
   "cell_type": "code",
   "source": [
    "import torch\n",
    "import torch.nn as nn\n",
    "from torch.utils.data import Dataset, DataLoader, TensorDataset\n",
    "import torch.optim as optim\n",
    "import matplotlib.pyplot as plt\n",
    "from tqdm import tqdm\n",
    "from IPython.display import clear_output"
   ],
   "id": "f4e5b5125a9d2c95",
   "outputs": [],
   "execution_count": 1
  },
  {
   "metadata": {
    "ExecuteTime": {
     "end_time": "2024-12-26T01:00:39.864914Z",
     "start_time": "2024-12-26T01:00:39.717846Z"
    }
   },
   "cell_type": "code",
   "source": [
    "from newton import riemann_solver_newton\n",
    "\n",
    "import numpy as np\n",
    "import pandas as pd"
   ],
   "id": "9bbd6d20202d7766",
   "outputs": [],
   "execution_count": 2
  },
  {
   "metadata": {},
   "cell_type": "code",
   "source": [
    "def generate_training_data(riemann_solver_newton, num_samples=1000, \n",
    "                           h_min=0.01, h_max=10.0, \n",
    "                           hu_min=-10.0, hu_max=10.0):\n",
    "    \"\"\"\n",
    "    Generate training samples for a neural network using a Riemann solver.\n",
    "\n",
    "    Parameters:\n",
    "        riemann_solver_newton: function\n",
    "            The Riemann solver function that computes (h*, u*) given (hL, huL, hR, huR).\n",
    "        num_samples: int\n",
    "            Number of samples to generate.\n",
    "        h_min: float\n",
    "            Minimum value for water depth h (hL, hR).\n",
    "        h_max: float\n",
    "            Maximum value for water depth h (hL, hR).\n",
    "        hu_min: float\n",
    "            Minimum value for momentum hu (huL, huR).\n",
    "        hu_max: float\n",
    "            Maximum value for momentum hu (huL, huR).\n",
    "\n",
    "    Returns:\n",
    "        DataFrame\n",
    "            A pandas DataFrame containing the input values (hL, huL, hR, huR) and output values (h*, u*).\n",
    "    \"\"\"\n",
    "    # Initialize lists to store input and output samples\n",
    "    inputs = []\n",
    "    outputs = []\n",
    "\n",
    "\n",
    "    from test2 import generate_log_uniform_sample\n",
    "    for _ in range(num_samples):\n",
    "        # Randomly sample input values within the specified domain\n",
    "        hL = np.random.uniform(h_min, h_max)\n",
    "        huL = np.random.uniform(hu_min, hu_max)\n",
    "        hR = np.random.uniform(h_min, h_max)\n",
    "        huR = np.random.uniform(hu_min, hu_max)\n",
    "        # hL = generate_log_uniform_sample(h_min, h_max)\n",
    "        # huL = (-1) ** (np.random.random() > 0.5) * generate_log_uniform_sample(0.01, hu_max)\n",
    "        # hR = generate_log_uniform_sample(h_min, h_max)\n",
    "        # huR = (-1) ** (np.random.random() > 0.5) * generate_log_uniform_sample(0.01, hu_max)\n",
    "\n",
    "        # Compute the Riemann solution\n",
    "        data = riemann_solver_newton(hL, huL, hR, huR, tol=1e-12)\n",
    "        # print(data)\n",
    "        h_star, u_star = data['star']\n",
    "        k = data['data'].item()\n",
    "        \n",
    "        \n",
    "        \n",
    "\n",
    "        # Store the inputs and outputs\n",
    "        inputs.append([hL, huL, hR, huR])\n",
    "        outputs.append([h_star, u_star, k])\n",
    "\n",
    "    # Convert to pandas DataFrame for easy handling\n",
    "    df = pd.DataFrame(\n",
    "        data=np.hstack([inputs, outputs]),\n",
    "        columns=['hL', 'huL', 'hR', 'huR', 'h_star', 'u_star', 'iter']\n",
    "    )\n",
    "\n",
    "    return df\n",
    "\n",
    "# Example usage\n",
    "# Assuming riemann_solver_newton is defined elsewhere and computes (h_star, hu_star)\n",
    "# Replace the function definition below with the actual implementation\n",
    "# def riemann_solver_newton(hL, huL, hR, huR):\n",
    "#     # Placeholder example: Replace with the actual solver logic\n",
    "#     h_star = 0.5 * (hL + hR)  # Example logic\n",
    "#     hu_star = 0.5 * (huL + huR)  # Example logic\n",
    "#     return h_star, hu_star\n",
    "\n",
    "# Generate training data\n",
    "num_samples = 20000\n",
    "data = generate_training_data(riemann_solver_newton, num_samples=num_samples)\n",
    "\n",
    "# Save to CSV file\n",
    "data.to_csv(\"riemann_training_data2.csv\", index=False)\n",
    "print(f\"Generated {num_samples} training samples and saved to 'riemann_training_data.csv'\")\n"
   ],
   "id": "ff5cc556797d044a",
   "outputs": [],
   "execution_count": null
  },
  {
   "metadata": {
    "ExecuteTime": {
     "end_time": "2024-12-26T01:13:56.492732Z",
     "start_time": "2024-12-26T01:13:56.475353Z"
    }
   },
   "cell_type": "code",
   "source": [
    "from sklearn.model_selection import train_test_split\n",
    "\n",
    "# Read the CSV file into a pandas DataFrame\n",
    "df = pd.read_csv('riemann_training_data2.csv')  # Replace with your actual file path\n",
    "\n",
    "# Define input features and output features\n",
    "X = df[['hL', 'huL', 'hR', 'huR']]\n",
    "X['ghL'] = np.sqrt(9.8066 * df['hL'])\n",
    "X['ghR'] = np.sqrt(9.8066 * df['hR'])\n",
    "y = df[['h_star', 'u_star']]\n",
    "\n",
    "# Split the data into training and validation sets\n",
    "train_X, val_X, train_y, val_y = train_test_split(X, y, test_size=0.2, random_state=42)\n",
    "\n",
    "print(f\"Training input shape: {train_X.shape}\")\n",
    "print(f\"Validation input shape: {val_X.shape}\")\n",
    "print(f\"Training output shape: {train_y.shape}\")\n",
    "print(f\"Validation output shape: {val_y.shape}\")\n"
   ],
   "id": "748e6aa9b8fa9c0f",
   "outputs": [
    {
     "name": "stdout",
     "output_type": "stream",
     "text": [
      "Training input shape: (16000, 6)\n",
      "Validation input shape: (4000, 6)\n",
      "Training output shape: (16000, 2)\n",
      "Validation output shape: (4000, 2)\n"
     ]
    },
    {
     "name": "stderr",
     "output_type": "stream",
     "text": [
      "/tmp/ipykernel_55741/2077566736.py:8: SettingWithCopyWarning: \n",
      "A value is trying to be set on a copy of a slice from a DataFrame.\n",
      "Try using .loc[row_indexer,col_indexer] = value instead\n",
      "\n",
      "See the caveats in the documentation: https://pandas.pydata.org/pandas-docs/stable/user_guide/indexing.html#returning-a-view-versus-a-copy\n",
      "  X['ghL'] = np.sqrt(9.8066 * df['hL'])\n",
      "/tmp/ipykernel_55741/2077566736.py:9: SettingWithCopyWarning: \n",
      "A value is trying to be set on a copy of a slice from a DataFrame.\n",
      "Try using .loc[row_indexer,col_indexer] = value instead\n",
      "\n",
      "See the caveats in the documentation: https://pandas.pydata.org/pandas-docs/stable/user_guide/indexing.html#returning-a-view-versus-a-copy\n",
      "  X['ghR'] = np.sqrt(9.8066 * df['hR'])\n"
     ]
    }
   ],
   "execution_count": 45
  },
  {
   "metadata": {
    "ExecuteTime": {
     "end_time": "2024-12-26T01:13:59.909292Z",
     "start_time": "2024-12-26T01:13:59.900329Z"
    }
   },
   "cell_type": "code",
   "source": [
    "# Convert pandas DataFrames to PyTorch tensors\n",
    "train_X_tensor = torch.tensor(train_X.values, dtype=torch.float32)\n",
    "val_X_tensor = torch.tensor(val_X.values, dtype=torch.float32)\n",
    "train_y_tensor = torch.tensor(train_y.values, dtype=torch.float32)\n",
    "val_y_tensor = torch.tensor(val_y.values, dtype=torch.float32)\n",
    "\n",
    "# Create TensorDatasets\n",
    "train_dataset = TensorDataset(train_X_tensor, train_y_tensor)\n",
    "val_dataset = TensorDataset(val_X_tensor, val_y_tensor)\n",
    "\n",
    "print(f\"Training dataset size: {len(train_dataset)}\")\n",
    "print(f\"Validation dataset size: {len(val_dataset)}\")\n"
   ],
   "id": "e60dca2d54d69f41",
   "outputs": [
    {
     "name": "stdout",
     "output_type": "stream",
     "text": [
      "Training dataset size: 16000\n",
      "Validation dataset size: 4000\n"
     ]
    }
   ],
   "execution_count": 46
  },
  {
   "metadata": {
    "ExecuteTime": {
     "end_time": "2024-12-26T01:14:00.645983Z",
     "start_time": "2024-12-26T01:14:00.641536Z"
    }
   },
   "cell_type": "code",
   "source": "train_dataset[0]",
   "id": "8a01b3170bcbee61",
   "outputs": [
    {
     "data": {
      "text/plain": [
       "(tensor([ 7.1846,  1.7619,  2.9987, -5.6217,  8.3938,  5.4228]),\n",
       " tensor([5.5873, 2.2286]))"
      ]
     },
     "execution_count": 47,
     "metadata": {},
     "output_type": "execute_result"
    }
   ],
   "execution_count": 47
  },
  {
   "metadata": {
    "ExecuteTime": {
     "end_time": "2024-12-26T01:14:01.171221Z",
     "start_time": "2024-12-26T01:14:01.168676Z"
    }
   },
   "cell_type": "code",
   "source": [
    "# Define batch size\n",
    "batch_size = 32\n",
    "\n",
    "# Create DataLoaders\n",
    "train_loader = DataLoader(train_dataset, batch_size=batch_size, shuffle=True)\n",
    "val_loader = DataLoader(val_dataset, batch_size=batch_size, shuffle=False)\n",
    "\n",
    "print(f\"Training DataLoader batches: {len(train_loader)}\")\n",
    "print(f\"Validation DataLoader batches: {len(val_loader)}\")"
   ],
   "id": "de6c9c5cab8174ee",
   "outputs": [
    {
     "name": "stdout",
     "output_type": "stream",
     "text": [
      "Training DataLoader batches: 500\n",
      "Validation DataLoader batches: 125\n"
     ]
    }
   ],
   "execution_count": 48
  },
  {
   "metadata": {
    "ExecuteTime": {
     "end_time": "2024-12-26T01:14:06.321077Z",
     "start_time": "2024-12-26T01:14:06.318378Z"
    }
   },
   "cell_type": "code",
   "source": "from torch.nn.functional import relu, elu, batch_norm",
   "id": "f193fbe587e54813",
   "outputs": [],
   "execution_count": 49
  },
  {
   "metadata": {
    "ExecuteTime": {
     "end_time": "2024-12-26T01:14:26.344512Z",
     "start_time": "2024-12-26T01:14:26.333900Z"
    }
   },
   "cell_type": "code",
   "source": [
    "class MLP(nn.Module):\n",
    "    def __init__(self, input_features):\n",
    "        super(MLP, self).__init__()\n",
    "        self.layer1 = nn.Linear(input_features, 20)\n",
    "        self.layer2 = nn.Linear(20, 20)\n",
    "        self.layer3 = nn.Linear(20, 20)\n",
    "        self.layer4 = nn.Linear(20, 20)\n",
    "        self.layer5 = nn.Linear(20, 2)\n",
    "        self.activation = elu\n",
    "        self.bn = nn.BatchNorm1d(4)\n",
    "\n",
    "    def forward(self, x):\n",
    "        # if x.dim() == 1:\n",
    "        #     x = x.unsqueeze(1)\n",
    "        # x = self.bn(x)\n",
    "        x = self.activation(self.layer1(x))\n",
    "        x = self.activation(self.layer2(x))\n",
    "        x = self.activation(self.layer3(x))\n",
    "        x = self.activation(self.layer4(x))\n",
    "        x = self.layer5(x)\n",
    "        return x\n",
    "\n",
    "# Example usage\n",
    "input_features = 6  # Specify the number of input features\n",
    "model = MLP(input_features)\n",
    "\n",
    "print(model)\n"
   ],
   "id": "adfca6920c2f658",
   "outputs": [
    {
     "name": "stdout",
     "output_type": "stream",
     "text": [
      "MLP(\n",
      "  (layer1): Linear(in_features=6, out_features=20, bias=True)\n",
      "  (layer2): Linear(in_features=20, out_features=20, bias=True)\n",
      "  (layer3): Linear(in_features=20, out_features=20, bias=True)\n",
      "  (layer4): Linear(in_features=20, out_features=20, bias=True)\n",
      "  (layer5): Linear(in_features=20, out_features=2, bias=True)\n",
      "  (bn): BatchNorm1d(4, eps=1e-05, momentum=0.1, affine=True, track_running_stats=True)\n",
      ")\n"
     ]
    }
   ],
   "execution_count": 55
  },
  {
   "metadata": {
    "ExecuteTime": {
     "end_time": "2024-12-26T01:14:27.191329Z",
     "start_time": "2024-12-26T01:14:27.188406Z"
    }
   },
   "cell_type": "code",
   "source": [
    "device = torch.device('cuda' if torch.cuda.is_available() else 'cpu')\n",
    "device"
   ],
   "id": "1f34bd0eb27481a6",
   "outputs": [
    {
     "data": {
      "text/plain": [
       "device(type='cuda')"
      ]
     },
     "execution_count": 56,
     "metadata": {},
     "output_type": "execute_result"
    }
   ],
   "execution_count": 56
  },
  {
   "metadata": {
    "ExecuteTime": {
     "end_time": "2024-12-26T01:14:27.518700Z",
     "start_time": "2024-12-26T01:14:27.515553Z"
    }
   },
   "cell_type": "code",
   "source": [
    "class MSE_Loss_Scaled(torch.nn.Module):\n",
    "    \"\"\"\n",
    "    Mean-squared error loss with custom scaling factors\n",
    "    for each label component.\n",
    "    \"\"\"\n",
    "\n",
    "    def __init__(self):\n",
    "        super().__init__()\n",
    "        # self.register_buffer(\"scaling_factors\", torch.tensor(scaling_factors))\n",
    "\n",
    "    def forward(self, input, target, scale):\n",
    "        mse = torch.mean((input - target) ** 2, dim=0)\n",
    "        mse = torch.dot(scale, mse)\n",
    "        return mse"
   ],
   "id": "3342c5c55d7eae94",
   "outputs": [],
   "execution_count": 57
  },
  {
   "metadata": {
    "ExecuteTime": {
     "end_time": "2024-12-26T01:14:28.263809Z",
     "start_time": "2024-12-26T01:14:28.258654Z"
    }
   },
   "cell_type": "code",
   "source": [
    "def train_model(model, train_dataloader, val_dataloader, num_epochs=10, learning_rate=0.001):\n",
    "    # criterion = nn.MSELoss()\n",
    "    criterion = MSE_Loss_Scaled()\n",
    "    optimizer = optim.Adam(model.parameters(), lr=learning_rate)\n",
    "\n",
    "    train_losses = []\n",
    "    val_losses = []\n",
    "    # fig, ax = plt.subplots()  # Create a figure and axis for plotting\n",
    "    # line, = ax.plot([], [], 'b-')  # Initialize the plot line\n",
    "    # \n",
    "    # ax.set_xlabel('Epoch')\n",
    "    # ax.set_ylabel('Loss')\n",
    "    # ax.set_title('Training Loss History')\n",
    "\n",
    "    # plt.ion()  # Turn on interactive mode for real-time updates\n",
    "    # fig.canvas.draw()\n",
    "\n",
    "    for epoch in range(num_epochs):\n",
    "        running_loss = 0.0\n",
    "        model.train()\n",
    "        for inputs, targets in train_dataloader:\n",
    "            optimizer.zero_grad()\n",
    "\n",
    "            outputs = model(inputs.to(device))\n",
    "            loss = criterion(outputs, targets.to(device), 1. / targets.std(dim=0).to(device))\n",
    "            # print(loss.shape, loss, targets.std(dim=0).shape)\n",
    "            # loss /= targets.std(dim=0)\n",
    "            loss.backward()\n",
    "            \n",
    "            torch.nn.utils.clip_grad_norm_(model.parameters(), max_norm=1)\n",
    "            optimizer.step()\n",
    "\n",
    "            running_loss += loss.item() * inputs.size(0)\n",
    "\n",
    "        epoch_loss = running_loss / len(train_dataloader.dataset)\n",
    "        train_losses.append(epoch_loss)\n",
    "        \n",
    "        model.eval()\n",
    "        for inputs, targets in val_dataloader:\n",
    "            outputs = model(inputs.to(device))\n",
    "            loss = criterion(outputs, targets.to(device), 1. / targets.std(dim=0).to(device))\n",
    "            \n",
    "            running_loss += loss.item() * inputs.size(0)\n",
    "            \n",
    "        epoch_loss = running_loss / len(val_dataloader.dataset)\n",
    "        val_losses.append(epoch_loss)\n",
    "            \n",
    "            \n",
    "        \n",
    "        clear_output()\n",
    "        fig, axis = plt.subplots(1, 1, figsize=(7, 7))\n",
    "        axis.plot(np.arange(1, epoch + 2), train_losses, label='train')\n",
    "        axis.plot(np.arange(1, epoch + 2), val_losses, label='val')\n",
    "        # axis[1].plot(np.arange(1, epoch + 2), train_accs, label='train')\n",
    "        # axis[1].plot(np.arange(1, epoch + 2), val_accs, label='val')\n",
    "        axis.set(xlabel='epoch', ylabel='MSE Loss')\n",
    "        # axis.set(xlabel='epoch', ylabel='Accuracy')\n",
    "        fig.legend()\n",
    "        plt.show()\n",
    "        print(f'Epoch {epoch + 1}.')\n",
    "        print(f'Train loss {train_losses[-1]}.')\n",
    "        print(f'Test loss {val_losses[-1]}.')\n",
    "        \n",
    "        print(f'Epoch {epoch+1}/{num_epochs}, Loss: {train_losses[-1]:.4f}')\n",
    "        # Update the plot\n",
    "        # line.set_xdata(range(len(loss_history)))\n",
    "        # line.set_ydata(loss_history)\n",
    "        # ax.relim()\n",
    "        # ax.autoscale_view()\n",
    "        # fig.canvas.draw()\n",
    "        # plt.pause(0.1)  # Pause briefly to update the plot\n",
    "\n",
    "    # plt.ioff()  # Turn off interactive mode after training\n",
    "    # plt.show()"
   ],
   "id": "3d98cdbca18a0dbc",
   "outputs": [],
   "execution_count": 58
  },
  {
   "metadata": {},
   "cell_type": "code",
   "source": [
    "model = MLP(input_features)\n",
    "criterion = nn.MSELoss()\n",
    "optimizer = optim.Adam(model.parameters(), lr=0.001)\n",
    "train_model(model.to(device), train_loader, val_loader, num_epochs=100)"
   ],
   "id": "fff2c95c012979f9",
   "execution_count": 59,
   "outputs": [
    {
     "data": {
      "text/plain": [
       "<Figure size 700x700 with 1 Axes>"
      ],
      "image/png": "[encoded data removed]"
     },
     "metadata": {},
     "output_type": "display_data"
    },
    {
     "name": "stdout",
     "output_type": "stream",
     "text": [
      "Epoch 100.\n",
      "Train loss 0.5566044686799869.\n",
      "Test loss 2.9256444563679396.\n",
      "Epoch 100/100, Loss: 0.5566\n"
     ]
    }
   ]
  },
  {
   "metadata": {
    "ExecuteTime": {
     "end_time": "2024-12-26T01:15:36.639025Z",
     "start_time": "2024-12-26T01:15:36.636631Z"
    }
   },
   "cell_type": "code",
   "source": [
    "inputs = val_dataset[:2]\n",
    "# inputs = torch.tensor([[5, 0, 5, 0], [2, 1, 2, 1]], dtype=torch.float32)"
   ],
   "id": "7f917c2729017e3d",
   "outputs": [],
   "execution_count": 60
  },
  {
   "metadata": {
    "ExecuteTime": {
     "end_time": "2024-12-26T01:15:36.879269Z",
     "start_time": "2024-12-26T01:15:36.875851Z"
    }
   },
   "cell_type": "code",
   "source": [
    "out = inputs[1]\n",
    "out"
   ],
   "id": "7a25241e330b165b",
   "outputs": [
    {
     "data": {
      "text/plain": [
       "tensor([[ 1.7543, -2.6047],\n",
       "        [ 3.8234, -6.1233]])"
      ]
     },
     "execution_count": 61,
     "metadata": {},
     "output_type": "execute_result"
    }
   ],
   "execution_count": 61
  },
  {
   "metadata": {
    "ExecuteTime": {
     "end_time": "2024-12-26T01:15:37.348469Z",
     "start_time": "2024-12-26T01:15:37.345079Z"
    }
   },
   "cell_type": "code",
   "source": "out.mean(dim=0)",
   "id": "8286fd97b633d599",
   "outputs": [
    {
     "data": {
      "text/plain": [
       "tensor([ 2.7889, -4.3640])"
      ]
     },
     "execution_count": 62,
     "metadata": {},
     "output_type": "execute_result"
    }
   ],
   "execution_count": 62
  },
  {
   "metadata": {
    "ExecuteTime": {
     "end_time": "2024-12-26T01:15:42.534468Z",
     "start_time": "2024-12-26T01:15:42.530587Z"
    }
   },
   "cell_type": "code",
   "source": [
    "model.to(device)\n",
    "model(inputs[0].to(device))"
   ],
   "id": "76c678e2efd624ed",
   "outputs": [
    {
     "data": {
      "text/plain": [
       "tensor([[ 1.8385, -2.8146],\n",
       "        [ 3.6216, -6.5347]], device='cuda:0', grad_fn=<AddmmBackward0>)"
      ]
     },
     "execution_count": 63,
     "metadata": {},
     "output_type": "execute_result"
    }
   ],
   "execution_count": 63
  },
  {
   "metadata": {
    "ExecuteTime": {
     "end_time": "2024-12-26T01:16:35.896761Z",
     "start_time": "2024-12-26T01:16:35.885322Z"
    }
   },
   "cell_type": "code",
   "source": [
    "def godunov_shallow_water(h, hu, dx, dt, iter=0, g=9.81):\n",
    "    \"\"\"\n",
    "    Solve the 1D shallow water equations using the Godunov scheme.\n",
    "\n",
    "    Parameters:\n",
    "    - h: numpy array, water depth\n",
    "    - hu: numpy array, momentum (h * u)\n",
    "    - dx: float, spatial resolution\n",
    "    - dt: float, time step\n",
    "    - g: float, gravitational acceleration (default 9.81 m/s^2)\n",
    "\n",
    "    Returns:\n",
    "    - h_new: numpy array, updated water depth\n",
    "    - hu_new: numpy array, updated momentum\n",
    "    \"\"\"\n",
    "\n",
    "    def flux(h, hu):\n",
    "        \"\"\"Compute the physical flux for shallow water equations.\"\"\"\n",
    "        u = np.where(h > 0, hu / h, 0)  # Avoid division by zero\n",
    "        return np.array([hu, hu * u + 0.5 * g * h ** 2])\n",
    "\n",
    "    global riemann_solver\n",
    "    def riemann_solver(hL, huL, hR, huR):\n",
    "        \"\"\"Solve Riemann problem for shallow water equations.\"\"\"\n",
    "        uL = huL / hL if hL > 0 else 0\n",
    "        uR = huR / hR if hR > 0 else 0\n",
    "\n",
    "        # Compute fluxes for left and right states\n",
    "        FL = flux(hL, huL)\n",
    "        FR = flux(hR, huR)\n",
    "\n",
    "        # Roe averages\n",
    "        hRoe = max(0, 0.5 * (hL + hR))  # Ensure positivity of h\n",
    "        if hL + hR > 0:\n",
    "            uRoe = (np.sqrt(hL) * uL + np.sqrt(hR) * uR) / (np.sqrt(hL) + np.sqrt(hR))\n",
    "        else:\n",
    "            uRoe = 0\n",
    "        cRoe = np.sqrt(g * hRoe)\n",
    "\n",
    "        # Wave speeds\n",
    "        sL = min(uL - np.sqrt(g * hL), uRoe - cRoe)\n",
    "        sR = max(uR + np.sqrt(g * hR), uRoe + cRoe)\n",
    "\n",
    "        # Flux computation\n",
    "        if sL >= 0:\n",
    "            return FL\n",
    "        elif sR <= 0:\n",
    "            return FR\n",
    "        else:\n",
    "            # Flux in the intermediate region\n",
    "            part = (sR * FL - sL * FR + sL * sR * (np.array([hR, huR]) - np.array([hL, huL]))) / (sR - sL)\n",
    "            part = np.append(part, [hRoe, uRoe])\n",
    "            return part\n",
    "\n",
    "    global riemann_solver_iter\n",
    "    def riemann_solver_iter(hL, huL, hR, huR, g=9.81, tol=1e-6, max_iter=1000):\n",
    "        \"\"\"\n",
    "        Exact Riemann solver for the shallow water equations using Newton's method.\n",
    "\n",
    "        Parameters:\n",
    "        - hL: float, water depth on the left\n",
    "        - huL: float, momentum on the left\n",
    "        - hR: float, water depth on the right\n",
    "        - huR: float, momentum on the right\n",
    "        - g: float, gravitational acceleration\n",
    "        - tol: float, tolerance for Newton's method\n",
    "        - max_iter: int, maximum number of iterations for Newton's method\n",
    "\n",
    "        Returns:\n",
    "        - Flux at the interface as a numpy array [F_h, F_hu]\n",
    "        \"\"\"\n",
    "        # Compute velocities on the left and right\n",
    "        uL = huL / hL if hL > 0 else 0\n",
    "        uR = huR / hR if hR > 0 else 0\n",
    "\n",
    "        # Function to solve for h_star\n",
    "        def f(h_star):\n",
    "            \"\"\"Nonlinear equation for h_star.\"\"\"\n",
    "            termL = (h_star - hL) * (np.sqrt(0.5 * g * (h_star + hL)))\n",
    "            termR = (h_star - hR) * (np.sqrt(0.5 * g * (h_star + hR)))\n",
    "            return termL + termR + (uR - uL)\n",
    "\n",
    "        def df(h_star):\n",
    "            \"\"\"Derivative of f(h_star).\"\"\"\n",
    "            termL = np.sqrt(0.5 * g * (h_star + hL)) + 0.5 * g * (h_star - hL) / np.sqrt(0.5 * g * (h_star + hL))\n",
    "            termR = np.sqrt(0.5 * g * (h_star + hR)) + 0.5 * g * (h_star - hR) / np.sqrt(0.5 * g * (h_star + hR))\n",
    "            return termL + termR\n",
    "\n",
    "        # Initial guess for h_star (arithmetic mean of hL and hR)\n",
    "        h_star = 0.5 * (hL + hR)\n",
    "\n",
    "        # Newton's method to find h_star\n",
    "        for _ in range(max_iter):\n",
    "            f_val = f(h_star)\n",
    "            df_val = df(h_star)\n",
    "            if abs(f_val) < tol:  # Convergence check\n",
    "                break\n",
    "            h_star -= f_val / df_val\n",
    "        else:\n",
    "            raise RuntimeError(\"Newton's method failed to converge for h_star\")\n",
    "\n",
    "        # Compute the intermediate velocity\n",
    "        u_star = 0.5 * (uL + uR) - 0.5 * (np.sqrt(g / h_star) * (hR - hL))\n",
    "\n",
    "        # Compute fluxes based on the solution\n",
    "        F_h = h_star * u_star\n",
    "        F_hu = h_star * u_star ** 2 + 0.5 * g * h_star ** 2\n",
    "\n",
    "        return np.array([F_h, F_hu, h_star, u_star])\n",
    "\n",
    "    # Number of cells\n",
    "    n = len(h)\n",
    "\n",
    "    # Compute fluxes at interfaces\n",
    "    h_flux = np.zeros(n - 1)\n",
    "    hu_flux = np.zeros(n - 1)\n",
    "    hh = np.zeros(n - 1)\n",
    "    uu = np.zeros(n - 1)\n",
    "    for i in range(n - 1):\n",
    "        if not iter:\n",
    "            flux_i = riemann_solver(h[i], hu[i], h[i + 1], hu[i + 1])\n",
    "        elif iter == 1:\n",
    "            flux_i = riemann_solver_iter(h[i], hu[i], h[i + 1], hu[i + 1])\n",
    "        elif iter == 2:\n",
    "            # print(i, h[i], hu[i], h[i + 1], hu[i + 1])\n",
    "            flux_i = riemann_solver_newton(h[i], hu[i], h[i + 1], hu[i + 1])['flux']\n",
    "        elif iter == 3:\n",
    "            inputs = torch.tensor([h[i], hu[i], h[i + 1], hu[i + 1], np.sqrt(g * h[i]), np.sqrt(g * h[i + 1])], dtype=torch.float32)\n",
    "            h_star, u_star = model(inputs.to(device)).cpu().detach().numpy()\n",
    "            \n",
    "            F_h = h_star * u_star\n",
    "            F_hu = h_star * u_star ** 2 + 0.5 * g * h_star ** 2\n",
    "            \n",
    "            flux_i = [F_h, F_hu, h_star, u_star]\n",
    "        h_flux[i], hu_flux[i], hh[i], uu[i] = flux_i\n",
    "\n",
    "    # print(f\"Method {iter}: \", h_flux)\n",
    "    # print(f\"Method {iter}: \", hu_flux)\n",
    "    # print(f\"Method {iter}: \", hh)\n",
    "    # print(f\"Method {iter}: \", uu)\n",
    "    # Update h and hu using flux differences\n",
    "    h_new = h.copy()\n",
    "    hu_new = hu.copy()\n",
    "    for i in range(1, n - 1):\n",
    "        h_new[i] -= dt / dx * (h_flux[i] - h_flux[i - 1])\n",
    "        hu_new[i] -= dt / dx * (hu_flux[i] - hu_flux[i - 1])\n",
    "\n",
    "    # Enforce positivity of h\n",
    "    h_new = np.maximum(h_new, 0)\n",
    "    return h_new, hu_new"
   ],
   "id": "29acde698b586c54",
   "outputs": [],
   "execution_count": 66
  },
  {
   "metadata": {
    "ExecuteTime": {
     "end_time": "2024-12-26T01:16:39.691832Z",
     "start_time": "2024-12-26T01:16:38.111343Z"
    }
   },
   "cell_type": "code",
   "source": [
    "# Simulation setup\n",
    "L = 2000.0  # Domain length (m)\n",
    "nx = 100  # Number of spatial points\n",
    "dx = L / nx  # Spatial resolution\n",
    "g = 9.8066  # Gravitational acceleration (m/s^2)\n",
    "CFL = 0.5  # CFL condition\n",
    "\n",
    "# Initial conditions\n",
    "h = np.ones(nx)\n",
    "h[:nx//2] = 5  # Step in water depth\n",
    "# h[nx // 4:nx //2] = 10  # Step in water depth\n",
    "u = np.zeros(nx)\n",
    "hu = h * u  # Momentum (initially zero)\n",
    "# hu[:nx // 5] = 2.5\n",
    "print(h, hu, sep='\\n')\n",
    "\n",
    "# Updated time-stepping loop to compute solutions with both solvers\n",
    "# h_iter = h.copy()  # Initial condition for iterative solver\n",
    "# hu_iter = hu.copy()\n",
    "# h_newton = h.copy()\n",
    "# hu_newton = hu.copy()\n",
    "# h_approx = h.copy()\n",
    "# hu_approx = hu.copy()\n",
    "\n",
    "# # Initialize time\n",
    "# t = 0.0\n",
    "# h_history_approx = []  # Store water depth from approximate solver\n",
    "# h_history_iter = []    # Store water depth from iterative solver\n",
    "\n",
    "t_end = 60  # Simulation end time\n",
    "def compute(h, hu, solver=0):\n",
    "    t = 0.0\n",
    "    while t < t_end:\n",
    "        # Compute maximum wave speed for CFL condition\n",
    "        # if solver == 3:\n",
    "        #     print(h)\n",
    "        u = np.where(h > 0, hu / h, 0)\n",
    "        c = np.sqrt(g * h)\n",
    "        dt = CFL * dx / (np.max(np.abs(u) + c))  # Adaptive time step\n",
    "\n",
    "        # if solver == 2:\n",
    "            # print(t)\n",
    "        h, hu = godunov_shallow_water(h, hu, dx, dt, iter=solver, g=g)\n",
    "\n",
    "        # Advance time\n",
    "        t += dt\n",
    "\n",
    "    return h, hu\n",
    "\n",
    "# h_approx, hu_approx = compute(h, hu, solver=0)\n",
    "# h_iter, hu_iter = compute(h, hu, solver=1)\n",
    "h_newton, hu_newton = compute(h, hu, solver=2)\n",
    "h_nn, hu_nn = compute(h, hu, solver=3)\n",
    "\n",
    "# Plot final results using subplots\n",
    "x = np.linspace(0, L, nx)\n",
    "\n",
    "fig, axes = plt.subplots(2, 1, figsize=(10, 10), sharex=True)\n",
    "\n",
    "# Plot water depth (h)\n",
    "# axes[0].plot(x, h_approx, label='Approximate Solve', linestyle='-', color='blue')\n",
    "# axes[0].plot(x, h_iter, label='Iterative Solver', linestyle='-', color='orange')\n",
    "axes[0].plot(x, h_newton, label='Newton\\'s Method', linestyle='-', color='green')\n",
    "axes[0].plot(x, h_nn, label='NN', linestyle='-', color='red')\n",
    "axes[0].set_ylabel('Water Depth (h)')\n",
    "axes[0].legend()\n",
    "axes[0].grid()\n",
    "axes[0].set_title('Water Depth (h) Comparison')\n",
    "\n",
    "# Plot momentum (hu)\n",
    "# axes[1].plot(x, hu_approx, label='Approximate Solver', linestyle='-', color='blue')\n",
    "# axes[1].plot(x, hu_iter, label='Iterative Solver', linestyle='-', color='orange')\n",
    "axes[1].plot(x, hu_newton, label='Newton\\'s Method', linestyle='-', color='green')\n",
    "axes[1].plot(x, hu_nn, label='NN', linestyle='-', color='red')\n",
    "axes[1].set_ylabel('Momentum (hu)')\n",
    "axes[1].legend()\n",
    "axes[1].grid()\n",
    "axes[1].set_title('Momentum (hu) Comparison')\n",
    "\n",
    "# Adjust layout\n",
    "plt.tight_layout()\n",
    "\n",
    "\n",
    "# Save the plot as a PNG file\n",
    "plt.savefig('myplot.png')\n",
    "\n",
    "plt.show()"
   ],
   "id": "e3fcc9749e05813d",
   "outputs": [
    {
     "name": "stdout",
     "output_type": "stream",
     "text": [
      "[5. 5. 5. 5. 5. 5. 5. 5. 5. 5. 5. 5. 5. 5. 5. 5. 5. 5. 5. 5. 5. 5. 5. 5.\n",
      " 5. 5. 5. 5. 5. 5. 5. 5. 5. 5. 5. 5. 5. 5. 5. 5. 5. 5. 5. 5. 5. 5. 5. 5.\n",
      " 5. 5. 1. 1. 1. 1. 1. 1. 1. 1. 1. 1. 1. 1. 1. 1. 1. 1. 1. 1. 1. 1. 1. 1.\n",
      " 1. 1. 1. 1. 1. 1. 1. 1. 1. 1. 1. 1. 1. 1. 1. 1. 1. 1. 1. 1. 1. 1. 1. 1.\n",
      " 1. 1. 1. 1.]\n",
      "[0. 0. 0. 0. 0. 0. 0. 0. 0. 0. 0. 0. 0. 0. 0. 0. 0. 0. 0. 0. 0. 0. 0. 0.\n",
      " 0. 0. 0. 0. 0. 0. 0. 0. 0. 0. 0. 0. 0. 0. 0. 0. 0. 0. 0. 0. 0. 0. 0. 0.\n",
      " 0. 0. 0. 0. 0. 0. 0. 0. 0. 0. 0. 0. 0. 0. 0. 0. 0. 0. 0. 0. 0. 0. 0. 0.\n",
      " 0. 0. 0. 0. 0. 0. 0. 0. 0. 0. 0. 0. 0. 0. 0. 0. 0. 0. 0. 0. 0. 0. 0. 0.\n",
      " 0. 0. 0. 0.]\n"
     ]
    },
    {
     "data": {
      "text/plain": [
       "<Figure size 1000x1000 with 2 Axes>"
      ],
      "image/png": "[encoded data removed]"
     },
     "metadata": {},
     "output_type": "display_data"
    }
   ],
   "execution_count": 67
  },
  {
   "metadata": {
    "ExecuteTime": {
     "end_time": "2024-12-13T12:31:03.987814Z",
     "start_time": "2024-12-13T12:31:03.984839Z"
    }
   },
   "cell_type": "code",
   "source": "riemann_solver_newton(1, 1, 2, -1)",
   "id": "e1c2e691570c681f",
   "outputs": [
    {
     "data": {
      "text/plain": [
       "{'flux': array([-1.88220648, 17.00892416,  1.74800966, -1.07677121]),\n",
       " 'star': array([ 1.74800966, -1.07677121]),\n",
       " 'data': array([3])}"
      ]
     },
     "execution_count": 131,
     "metadata": {},
     "output_type": "execute_result"
    }
   ],
   "execution_count": 131
  },
  {
   "metadata": {
    "ExecuteTime": {
     "end_time": "2024-12-13T12:32:21.395867Z",
     "start_time": "2024-12-13T12:32:21.392854Z"
    }
   },
   "cell_type": "code",
   "source": "riemann_solver_newton(2, 1, 4, -1)",
   "id": "fe9f57fbbba52d83",
   "outputs": [
    {
     "data": {
      "text/plain": [
       "{'flux': array([-5.38032341, 56.75790812,  3.11089783, -1.72950823]),\n",
       " 'star': array([ 3.11089783, -1.72950823]),\n",
       " 'data': array([3])}"
      ]
     },
     "execution_count": 134,
     "metadata": {},
     "output_type": "execute_result"
    }
   ],
   "execution_count": 134
  },
  {
   "metadata": {},
   "cell_type": "code",
   "outputs": [],
   "execution_count": null,
   "source": "",
   "id": "17df5d82df36951"
  }
 ],
 "metadata": {
  "kernelspec": {
   "display_name": "Python 3",
   "language": "python",
   "name": "python3"
  },
  "language_info": {
   "codemirror_mode": {
    "name": "ipython",
    "version": 2
   },
   "file_extension": ".py",
   "mimetype": "text/x-python",
   "name": "python",
   "nbconvert_exporter": "python",
   "pygments_lexer": "ipython2",
   "version": "2.7.6"
  }
 },
 "nbformat": 4,
 "nbformat_minor": 5
}
