{
 "cells": [
  {
   "metadata": {
    "ExecuteTime": {
     "end_time": "2025-03-31T08:16:31.374550Z",
     "start_time": "2025-03-31T08:16:30.203843Z"
    }
   },
   "cell_type": "code",
   "source": [
    "import time\n",
    "\n",
    "import torch\n",
    "import torch.nn as nn\n",
    "from anyio import sleep\n",
    "from numba.cuda.printimpl import print_item\n",
    "from numpy import character\n",
    "from torch.utils.data import Dataset, DataLoader, TensorDataset\n",
    "import torch.optim as optim\n",
    "import matplotlib.pyplot as plt\n",
    "from tqdm import tqdm\n",
    "from IPython.display import clear_output"
   ],
   "id": "d6e1193fe73185fa",
   "outputs": [],
   "execution_count": 1
  },
  {
   "metadata": {
    "ExecuteTime": {
     "end_time": "2025-03-31T08:16:31.560083Z",
     "start_time": "2025-03-31T08:16:31.385578Z"
    }
   },
   "cell_type": "code",
   "source": [
    "from newton import riemann_solver_newton\n",
    "\n",
    "import numpy as np\n",
    "import pandas as pd"
   ],
   "id": "fea3acd5c7f3c11c",
   "outputs": [],
   "execution_count": 2
  },
  {
   "metadata": {},
   "cell_type": "code",
   "source": [
    "def generate_training_data(riemann_solver_newton, num_samples=1000,\n",
    "                           h_min=0.01, h_max=10.0,\n",
    "                           hu_min=-10.0, hu_max=10.0):\n",
    "    \"\"\"\n",
    "    Generate training samples for a neural network using a Riemann solver.\n",
    "\n",
    "    Parameters:\n",
    "        riemann_solver_newton: function\n",
    "            The Riemann solver function that computes (h*, u*) given (hL, huL, hR, huR).\n",
    "        num_samples: int\n",
    "            Number of samples to generate.\n",
    "        h_min: float\n",
    "            Minimum value for water depth h (hL, hR).\n",
    "        h_max: float\n",
    "            Maximum value for water depth h (hL, hR).\n",
    "        hu_min: float\n",
    "            Minimum value for momentum hu (huL, huR).\n",
    "        hu_max: float\n",
    "            Maximum value for momentum hu (huL, huR).\n",
    "\n",
    "    Returns:\n",
    "        DataFrame\n",
    "            A pandas DataFrame containing the input values (hL, huL, hR, huR) and output values (h*, u*).\n",
    "    \"\"\"\n",
    "    # Initialize lists to store input and output samples\n",
    "    inputs = []\n",
    "    outputs = []\n",
    "\n",
    "\n",
    "    from test2 import generate_log_uniform_sample\n",
    "    for _ in range(num_samples):\n",
    "        # Randomly sample input values within the specified domain\n",
    "        hL = np.random.uniform(h_min, h_max)\n",
    "        huL = np.random.uniform(hu_min, hu_max)\n",
    "        hR = np.random.uniform(h_min, h_max)\n",
    "        huR = np.random.uniform(hu_min, hu_max)\n",
    "        # hL = generate_log_uniform_sample(h_min, h_max)\n",
    "        # huL = (-1) ** (np.random.random() > 0.5) * generate_log_uniform_sample(0.01, hu_max)\n",
    "        # hR = generate_log_uniform_sample(h_min, h_max)\n",
    "        # huR = (-1) ** (np.random.random() > 0.5) * generate_log_uniform_sample(0.01, hu_max)\n",
    "\n",
    "        # Compute the Riemann solution\n",
    "        data = riemann_solver_newton(hL, huL, hR, huR, tol=1e-12)\n",
    "        # print(data)\n",
    "        h_star, u_star = data['star']\n",
    "        k = data['data'].item()\n",
    "\n",
    "\n",
    "\n",
    "\n",
    "        # Store the inputs and outputs\n",
    "        inputs.append([hL, huL, hR, huR])\n",
    "        outputs.append([h_star, u_star, k])\n",
    "\n",
    "    # Convert to pandas DataFrame for easy handling\n",
    "    df = pd.DataFrame(\n",
    "        data=np.hstack([inputs, outputs]),\n",
    "        columns=['hL', 'huL', 'hR', 'huR', 'h_star', 'u_star', 'iter']\n",
    "    )\n",
    "\n",
    "    return df\n",
    "\n",
    "# Example usage\n",
    "# Assuming riemann_solver_newton is defined elsewhere and computes (h_star, hu_star)\n",
    "# Replace the function definition below with the actual implementation\n",
    "# def riemann_solver_newton(hL, huL, hR, huR):\n",
    "#     # Placeholder example: Replace with the actual solver logic\n",
    "#     h_star = 0.5 * (hL + hR)  # Example logic\n",
    "#     hu_star = 0.5 * (huL + huR)  # Example logic\n",
    "#     return h_star, hu_star\n",
    "\n",
    "# Generate training data\n",
    "num_samples = 20000\n",
    "data = generate_training_data(riemann_solver_newton, num_samples=num_samples)\n",
    "\n",
    "# Save to CSV file\n",
    "data.to_csv(\"riemann_training_data2.csv\", index=False)\n",
    "print(f\"Generated {num_samples} training samples and saved to 'riemann_training_data.csv'\")\n"
   ],
   "id": "aba193a4bc30220c",
   "outputs": [],
   "execution_count": null
  },
  {
   "metadata": {
    "ExecuteTime": {
     "end_time": "2025-03-18T07:08:40.417219Z",
     "start_time": "2025-03-18T07:08:40.134099Z"
    }
   },
   "cell_type": "code",
   "source": [
    "from sklearn.model_selection import train_test_split\n",
    "\n",
    "# Read the CSV file into a pandas DataFrame\n",
    "df = pd.read_csv('riemann_training_data2.csv')  # Replace with your actual file path\n",
    "\n",
    "# Define input features and output features\n",
    "X = df[['hL', 'huL', 'hR', 'huR']]\n",
    "X['ghL'] = np.sqrt(9.8066 * df['hL'])\n",
    "X['ghR'] = np.sqrt(9.8066 * df['hR'])\n",
    "y = df[['h_star', 'u_star']]\n",
    "\n",
    "# Split the data into training and validation sets\n",
    "train_X, val_X, train_y, val_y = train_test_split(X, y, test_size=0.2, random_state=42)\n",
    "\n",
    "print(f\"Training input shape: {train_X.shape}\")\n",
    "print(f\"Validation input shape: {val_X.shape}\")\n",
    "print(f\"Training output shape: {train_y.shape}\")\n",
    "print(f\"Validation output shape: {val_y.shape}\")\n"
   ],
   "id": "af37d3c833fa2056",
   "outputs": [
    {
     "name": "stdout",
     "output_type": "stream",
     "text": [
      "Training input shape: (16000, 6)\n",
      "Validation input shape: (4000, 6)\n",
      "Training output shape: (16000, 2)\n",
      "Validation output shape: (4000, 2)\n"
     ]
    },
    {
     "name": "stderr",
     "output_type": "stream",
     "text": [
      "/tmp/ipykernel_724545/2077566736.py:8: SettingWithCopyWarning: \n",
      "A value is trying to be set on a copy of a slice from a DataFrame.\n",
      "Try using .loc[row_indexer,col_indexer] = value instead\n",
      "\n",
      "See the caveats in the documentation: https://pandas.pydata.org/pandas-docs/stable/user_guide/indexing.html#returning-a-view-versus-a-copy\n",
      "  X['ghL'] = np.sqrt(9.8066 * df['hL'])\n",
      "/tmp/ipykernel_724545/2077566736.py:9: SettingWithCopyWarning: \n",
      "A value is trying to be set on a copy of a slice from a DataFrame.\n",
      "Try using .loc[row_indexer,col_indexer] = value instead\n",
      "\n",
      "See the caveats in the documentation: https://pandas.pydata.org/pandas-docs/stable/user_guide/indexing.html#returning-a-view-versus-a-copy\n",
      "  X['ghR'] = np.sqrt(9.8066 * df['hR'])\n"
     ]
    }
   ],
   "execution_count": 26
  },
  {
   "metadata": {
    "ExecuteTime": {
     "end_time": "2025-03-18T07:08:41.350958Z",
     "start_time": "2025-03-18T07:08:41.339754Z"
    }
   },
   "cell_type": "code",
   "source": [
    "# Convert pandas DataFrames to PyTorch tensors\n",
    "train_X_tensor = torch.tensor(train_X.values, dtype=torch.float32)\n",
    "val_X_tensor = torch.tensor(val_X.values, dtype=torch.float32)\n",
    "train_y_tensor = torch.tensor(train_y.values, dtype=torch.float32)\n",
    "val_y_tensor = torch.tensor(val_y.values, dtype=torch.float32)\n",
    "\n",
    "# Create TensorDatasets\n",
    "train_dataset = TensorDataset(train_X_tensor, train_y_tensor)\n",
    "val_dataset = TensorDataset(val_X_tensor, val_y_tensor)\n",
    "\n",
    "print(f\"Training dataset size: {len(train_dataset)}\")\n",
    "print(f\"Validation dataset size: {len(val_dataset)}\")\n"
   ],
   "id": "69aff8af0d212503",
   "outputs": [
    {
     "name": "stdout",
     "output_type": "stream",
     "text": [
      "Training dataset size: 16000\n",
      "Validation dataset size: 4000\n"
     ]
    }
   ],
   "execution_count": 27
  },
  {
   "metadata": {
    "ExecuteTime": {
     "end_time": "2025-03-18T05:39:57.219925Z",
     "start_time": "2025-03-18T05:39:57.215010Z"
    }
   },
   "cell_type": "code",
   "source": "train_dataset[0]",
   "id": "a5a03694bd4a56b5",
   "outputs": [
    {
     "data": {
      "text/plain": [
       "(tensor([ 7.1846,  1.7619,  2.9987, -5.6217,  8.3938,  5.4228]),\n",
       " tensor([5.5873, 2.2286]))"
      ]
     },
     "execution_count": 42,
     "metadata": {},
     "output_type": "execute_result"
    }
   ],
   "execution_count": 42
  },
  {
   "metadata": {
    "ExecuteTime": {
     "end_time": "2025-03-18T07:08:44.663718Z",
     "start_time": "2025-03-18T07:08:44.659368Z"
    }
   },
   "cell_type": "code",
   "source": [
    "# Define batch size\n",
    "batch_size = 32\n",
    "\n",
    "# Create DataLoaders\n",
    "train_loader = DataLoader(train_dataset, batch_size=batch_size, shuffle=True)\n",
    "val_loader = DataLoader(val_dataset, batch_size=batch_size, shuffle=False)\n",
    "\n",
    "print(f\"Training DataLoader batches: {len(train_loader)}\")\n",
    "print(f\"Validation DataLoader batches: {len(val_loader)}\")"
   ],
   "id": "d331093253581724",
   "outputs": [
    {
     "name": "stdout",
     "output_type": "stream",
     "text": [
      "Training DataLoader batches: 500\n",
      "Validation DataLoader batches: 125\n"
     ]
    }
   ],
   "execution_count": 28
  },
  {
   "metadata": {
    "ExecuteTime": {
     "end_time": "2025-03-18T07:08:49.673897Z",
     "start_time": "2025-03-18T07:08:49.671984Z"
    }
   },
   "cell_type": "code",
   "source": "from torch.nn.functional import relu, elu, batch_norm",
   "id": "c8644cb9708bea8b",
   "outputs": [],
   "execution_count": 29
  },
  {
   "metadata": {
    "ExecuteTime": {
     "end_time": "2025-03-18T07:08:50.787283Z",
     "start_time": "2025-03-18T07:08:50.781843Z"
    }
   },
   "cell_type": "code",
   "source": [
    "class MLP(nn.Module):\n",
    "    def __init__(self, input_features):\n",
    "        super(MLP, self).__init__()\n",
    "        self.layer1 = nn.Linear(input_features, 20)\n",
    "        self.layer2 = nn.Linear(20, 20)\n",
    "        self.layer3 = nn.Linear(20, 20)\n",
    "        self.layer4 = nn.Linear(20, 20)\n",
    "        self.layer5 = nn.Linear(20, 2)\n",
    "        self.activation = elu\n",
    "        self.bn = nn.BatchNorm1d(4)\n",
    "\n",
    "    def forward(self, x):\n",
    "        # if x.dim() == 1:\n",
    "        #     x = x.unsqueeze(1)\n",
    "        # x = self.bn(x)\n",
    "        x = self.activation(self.layer1(x))\n",
    "        x = self.activation(self.layer2(x))\n",
    "        x = self.activation(self.layer3(x))\n",
    "        x = self.activation(self.layer4(x))\n",
    "        x = self.layer5(x)\n",
    "        return x\n",
    "\n",
    "# Example usage\n",
    "input_features = 6  # Specify the number of input features\n",
    "model = MLP(input_features)\n",
    "\n",
    "print(model)\n"
   ],
   "id": "8fd981ff0040fa9e",
   "outputs": [
    {
     "name": "stdout",
     "output_type": "stream",
     "text": [
      "MLP(\n",
      "  (layer1): Linear(in_features=6, out_features=20, bias=True)\n",
      "  (layer2): Linear(in_features=20, out_features=20, bias=True)\n",
      "  (layer3): Linear(in_features=20, out_features=20, bias=True)\n",
      "  (layer4): Linear(in_features=20, out_features=20, bias=True)\n",
      "  (layer5): Linear(in_features=20, out_features=2, bias=True)\n",
      "  (bn): BatchNorm1d(4, eps=1e-05, momentum=0.1, affine=True, track_running_stats=True)\n",
      ")\n"
     ]
    }
   ],
   "execution_count": 30
  },
  {
   "metadata": {
    "ExecuteTime": {
     "end_time": "2025-03-18T07:08:52.405913Z",
     "start_time": "2025-03-18T07:08:52.392451Z"
    }
   },
   "cell_type": "code",
   "source": [
    "device = torch.device('cuda' if torch.cuda.is_available() else 'cpu')\n",
    "device"
   ],
   "id": "4d73be536e2eb5e8",
   "outputs": [
    {
     "data": {
      "text/plain": [
       "device(type='cuda')"
      ]
     },
     "execution_count": 31,
     "metadata": {},
     "output_type": "execute_result"
    }
   ],
   "execution_count": 31
  },
  {
   "metadata": {
    "ExecuteTime": {
     "end_time": "2025-03-18T07:08:53.423652Z",
     "start_time": "2025-03-18T07:08:53.420533Z"
    }
   },
   "cell_type": "code",
   "source": [
    "class MSE_Loss_Scaled(torch.nn.Module):\n",
    "    \"\"\"\n",
    "    Mean-squared error loss with custom scaling factors\n",
    "    for each label component.\n",
    "    \"\"\"\n",
    "\n",
    "    def __init__(self):\n",
    "        super().__init__()\n",
    "        # self.register_buffer(\"scaling_factors\", torch.tensor(scaling_factors))\n",
    "\n",
    "    def forward(self, input, target, scale):\n",
    "        mse = torch.mean((input - target) ** 2, dim=0)\n",
    "        mse = torch.dot(scale, mse)\n",
    "        return mse"
   ],
   "id": "4d6dee983db100bc",
   "outputs": [],
   "execution_count": 32
  },
  {
   "metadata": {
    "ExecuteTime": {
     "end_time": "2025-03-18T07:08:54.373103Z",
     "start_time": "2025-03-18T07:08:54.219256Z"
    }
   },
   "cell_type": "code",
   "source": [
    "from torch.utils.tensorboard import SummaryWriter\n",
    "from tqdm.auto import tqdm, trange"
   ],
   "id": "a10df926dcd59242",
   "outputs": [],
   "execution_count": 33
  },
  {
   "metadata": {
    "ExecuteTime": {
     "end_time": "2025-03-18T07:09:06.505582Z",
     "start_time": "2025-03-18T07:09:06.493574Z"
    }
   },
   "cell_type": "code",
   "source": [
    "def train_model(model, train_dataloader, val_dataloader, num_epochs=10, learning_rate=0.001):\n",
    "    # criterion = nn.MSELoss()\n",
    "    criterion = MSE_Loss_Scaled()\n",
    "    optimizer = optim.Adam(model.parameters(), lr=learning_rate)\n",
    "\n",
    "    writer = SummaryWriter()\n",
    "\n",
    "    train_losses = []\n",
    "    val_losses = []\n",
    "\n",
    "    for epoch in trange(num_epochs):\n",
    "        running_loss = 0.0\n",
    "        model.train()\n",
    "        for inputs, targets in train_dataloader:\n",
    "            optimizer.zero_grad()\n",
    "\n",
    "            outputs = model(inputs.to(device))\n",
    "            loss = criterion(outputs, targets.to(device), 1. / targets.std(dim=0).to(device))\n",
    "            # print(loss.shape, loss, targets.std(dim=0).shape)\n",
    "            # loss /= targets.std(dim=0)\n",
    "            loss.backward()\n",
    "\n",
    "            torch.nn.utils.clip_grad_norm_(model.parameters(), max_norm=1)\n",
    "            optimizer.step()\n",
    "\n",
    "            running_loss += loss.item() * inputs.size(0)\n",
    "\n",
    "        epoch_train_loss = running_loss / len(train_dataloader.dataset)\n",
    "        train_losses.append(epoch_train_loss)\n",
    "\n",
    "        model.eval()\n",
    "        for inputs, targets in val_dataloader:\n",
    "            outputs = model(inputs.to(device))\n",
    "            loss = criterion(outputs, targets.to(device), 1. / targets.std(dim=0).to(device))\n",
    "\n",
    "            running_loss += loss.item() * inputs.size(0)\n",
    "\n",
    "        epoch_val_loss = running_loss / len(val_dataloader.dataset)\n",
    "        val_losses.append(epoch_val_loss)\n",
    "\n",
    "\n",
    "        # Log losses to TensorBoard\n",
    "        writer.add_scalar('Loss/Train', epoch_train_loss, epoch)\n",
    "        writer.add_scalar('Loss/Validation', epoch_val_loss, epoch)\n",
    "\n",
    "        if (epoch % 10) == 0:\n",
    "            tqdm.write(f'Epoch {epoch+1}/{num_epochs}, Train Loss: {epoch_train_loss:.4f}, Val Loss: {epoch_val_loss:.4f}')"
   ],
   "id": "7c07a3995de82436",
   "outputs": [],
   "execution_count": 34
  },
  {
   "metadata": {
    "ExecuteTime": {
     "end_time": "2025-03-18T07:10:11.232169Z",
     "start_time": "2025-03-18T07:09:10.725711Z"
    }
   },
   "cell_type": "code",
   "source": [
    "model = MLP(input_features)\n",
    "criterion = nn.MSELoss()\n",
    "optimizer = optim.Adam(model.parameters(), lr=0.001)\n",
    "train_model(model.to(device), train_loader, val_loader, num_epochs=100)"
   ],
   "id": "e4041e89f1e0c02c",
   "outputs": [
    {
     "data": {
      "text/plain": [
       "  0%|          | 0/100 [00:00<?, ?it/s]"
      ],
      "application/vnd.jupyter.widget-view+json": {
       "version_major": 2,
       "version_minor": 0,
       "model_id": "b0ad152cab00473883e49abfd6631f32"
      }
     },
     "metadata": {},
     "output_type": "display_data"
    },
    {
     "name": "stdout",
     "output_type": "stream",
     "text": [
      "Epoch 1/100, Train Loss: 10.3184, Val Loss: 50.5845\n",
      "Epoch 11/100, Train Loss: 3.0523, Val Loss: 15.9146\n",
      "Epoch 21/100, Train Loss: 1.7191, Val Loss: 9.6910\n",
      "Epoch 31/100, Train Loss: 1.3732, Val Loss: 7.7860\n",
      "Epoch 41/100, Train Loss: 1.1319, Val Loss: 6.2906\n",
      "Epoch 51/100, Train Loss: 0.9456, Val Loss: 5.4476\n",
      "Epoch 61/100, Train Loss: 0.8792, Val Loss: 4.7012\n",
      "Epoch 71/100, Train Loss: 0.7994, Val Loss: 4.7255\n",
      "Epoch 81/100, Train Loss: 0.5583, Val Loss: 3.3722\n",
      "Epoch 91/100, Train Loss: 0.5418, Val Loss: 3.1273\n"
     ]
    }
   ],
   "execution_count": 35
  },
  {
   "metadata": {
    "ExecuteTime": {
     "end_time": "2025-03-18T05:59:14.464782Z",
     "start_time": "2025-03-18T05:59:14.462854Z"
    }
   },
   "cell_type": "code",
   "source": [
    "inputs = val_dataset[:2]\n",
    "# inputs = torch.tensor([[5, 0, 5, 0], [2, 1, 2, 1]], dtype=torch.float32)"
   ],
   "id": "5643ff1de6306e01",
   "outputs": [],
   "execution_count": 67
  },
  {
   "metadata": {
    "ExecuteTime": {
     "end_time": "2025-03-18T05:59:15.722851Z",
     "start_time": "2025-03-18T05:59:15.718464Z"
    }
   },
   "cell_type": "code",
   "source": [
    "out = inputs[1]\n",
    "out"
   ],
   "id": "1bccd2f35f737455",
   "outputs": [
    {
     "data": {
      "text/plain": [
       "tensor([[ 1.7543, -2.6047],\n",
       "        [ 3.8234, -6.1233]])"
      ]
     },
     "execution_count": 68,
     "metadata": {},
     "output_type": "execute_result"
    }
   ],
   "execution_count": 68
  },
  {
   "metadata": {
    "ExecuteTime": {
     "end_time": "2025-03-18T05:59:18.507469Z",
     "start_time": "2025-03-18T05:59:18.502616Z"
    }
   },
   "cell_type": "code",
   "source": "out.mean(dim=0)",
   "id": "d7316234b0b52cea",
   "outputs": [
    {
     "data": {
      "text/plain": [
       "tensor([ 2.7889, -4.3640])"
      ]
     },
     "execution_count": 69,
     "metadata": {},
     "output_type": "execute_result"
    }
   ],
   "execution_count": 69
  },
  {
   "metadata": {
    "ExecuteTime": {
     "end_time": "2025-03-18T05:59:24.212656Z",
     "start_time": "2025-03-18T05:59:24.138903Z"
    }
   },
   "cell_type": "code",
   "source": [
    "model.to(device)\n",
    "model(inputs[0].to(device))"
   ],
   "id": "87f7c667caccad16",
   "outputs": [
    {
     "data": {
      "text/plain": [
       "tensor([[ 1.8234, -2.2833],\n",
       "        [ 3.6170, -6.4546]], device='cuda:0', grad_fn=<AddmmBackward0>)"
      ]
     },
     "execution_count": 70,
     "metadata": {},
     "output_type": "execute_result"
    }
   ],
   "execution_count": 70
  },
  {
   "metadata": {
    "ExecuteTime": {
     "end_time": "2025-03-31T08:17:07.516145Z",
     "start_time": "2025-03-31T08:17:07.513647Z"
    }
   },
   "cell_type": "code",
   "source": "model = None",
   "id": "af19007f28d61b60",
   "outputs": [],
   "execution_count": 8
  },
  {
   "metadata": {
    "ExecuteTime": {
     "end_time": "2025-03-18T07:34:54.861038Z",
     "start_time": "2025-03-18T07:34:54.857080Z"
    }
   },
   "cell_type": "code",
   "source": [
    "import shallow as ssh\n",
    "from importlib import reload\n",
    "reload(ssh)"
   ],
   "id": "a6371dc9e566ca57",
   "outputs": [
    {
     "data": {
      "text/plain": [
       "<module 'shallow' from '/home/timur/Coding/Riemann/shallow.py'>"
      ]
     },
     "execution_count": 64,
     "metadata": {},
     "output_type": "execute_result"
    }
   ],
   "execution_count": 64
  },
  {
   "metadata": {
    "ExecuteTime": {
     "end_time": "2025-03-31T08:16:45.030213Z",
     "start_time": "2025-03-31T08:16:45.022235Z"
    }
   },
   "cell_type": "code",
   "source": "from shallow import GodunovSolver, CabaretSolver",
   "id": "57d467e99d822070",
   "outputs": [],
   "execution_count": 3
  },
  {
   "metadata": {
    "ExecuteTime": {
     "end_time": "2025-03-31T08:16:46.515928Z",
     "start_time": "2025-03-31T08:16:46.511248Z"
    }
   },
   "cell_type": "code",
   "source": [
    "t_end = 60  # Simulation end time\n",
    "def compute(h, hu, solver_scheme='godunov'):\n",
    "    if solver_scheme == 'godunov_classic' or solver_scheme == 'godunov_iter' or solver_scheme == 'godunov_newton' or solver_scheme == 'godunov_nn':\n",
    "        solver = GodunovSolver(solver_func=solver_scheme[8:], model=model if model is not None else None)\n",
    "    else:\n",
    "        solver = CabaretSolver(solver_func=solver_scheme[8:], model=model if model is not None else None)\n",
    "\n",
    "\n",
    "    t = 0.0\n",
    "    times = []\n",
    "    while t < t_end:\n",
    "        times.append(t)\n",
    "        u = np.where(h > 0, hu / h, 0)\n",
    "        c = np.sqrt(g * h)\n",
    "        dt = CFL * dx / (np.max(np.abs(u) + c))  # Adaptive time step\n",
    "\n",
    "        if solver_scheme == 'godunov_classic':\n",
    "            h, hu = solver.step(h, hu, dx, dt)\n",
    "        elif solver_scheme == 'godunov_iter':\n",
    "            h, hu = solver.step(h, hu, dx, dt)\n",
    "        elif solver_scheme == 'godunov_newton':\n",
    "            h, hu = solver.step(h, hu, dx, dt)\n",
    "        elif solver_scheme == 'godunov_nn':\n",
    "            h, hu = solver.step(h, hu, dx, dt)\n",
    "        elif solver_scheme == 'cabaret_classic':\n",
    "            h, hu = solver.step(h, hu, dx, dt)\n",
    "        elif solver_scheme == 'cabaret_nn':\n",
    "            h, hu = solver.step(h, hu, dx, dt)\n",
    "        else:\n",
    "            raise ValueError(f\"Unknown solver scheme: {solver_scheme}\")\n",
    "\n",
    "        t += dt.item()\n",
    "\n",
    "    # print(times)\n",
    "    return h, hu"
   ],
   "id": "894a31e83a465ae8",
   "outputs": [],
   "execution_count": 4
  },
  {
   "metadata": {
    "ExecuteTime": {
     "end_time": "2025-03-31T08:17:45.809562Z",
     "start_time": "2025-03-31T08:17:45.806149Z"
    }
   },
   "cell_type": "code",
   "source": [
    "# Simulation setup\n",
    "L = 2000.0  # Domain length (m)\n",
    "nx = 100  # Number of spatial points\n",
    "dx = L / nx  # Spatial resolution\n",
    "g = 9.8066  # Gravitational acceleration (m/s^2)\n",
    "CFL = 0.5  # CFL condition\n",
    "\n",
    "# Initial conditions\n",
    "h = np.ones(nx)\n",
    "h[:nx//2] = 2  # Step in water depth\n",
    "# h[nx // 4:nx //2] = 10  # Step in water depth\n",
    "u = np.zeros(nx)\n",
    "hu = h * u  # Momentum (initially zero)\n",
    "# hu[:nx // 5] = 2.5\n",
    "print(h, hu, sep='\\n')"
   ],
   "id": "f724e4ad73048c66",
   "outputs": [
    {
     "name": "stdout",
     "output_type": "stream",
     "text": [
      "[2. 2. 2. 2. 2. 2. 2. 2. 2. 2. 2. 2. 2. 2. 2. 2. 2. 2. 2. 2. 2. 2. 2. 2.\n",
      " 2. 2. 2. 2. 2. 2. 2. 2. 2. 2. 2. 2. 2. 2. 2. 2. 2. 2. 2. 2. 2. 2. 2. 2.\n",
      " 2. 2. 1. 1. 1. 1. 1. 1. 1. 1. 1. 1. 1. 1. 1. 1. 1. 1. 1. 1. 1. 1. 1. 1.\n",
      " 1. 1. 1. 1. 1. 1. 1. 1. 1. 1. 1. 1. 1. 1. 1. 1. 1. 1. 1. 1. 1. 1. 1. 1.\n",
      " 1. 1. 1. 1.]\n",
      "[0. 0. 0. 0. 0. 0. 0. 0. 0. 0. 0. 0. 0. 0. 0. 0. 0. 0. 0. 0. 0. 0. 0. 0.\n",
      " 0. 0. 0. 0. 0. 0. 0. 0. 0. 0. 0. 0. 0. 0. 0. 0. 0. 0. 0. 0. 0. 0. 0. 0.\n",
      " 0. 0. 0. 0. 0. 0. 0. 0. 0. 0. 0. 0. 0. 0. 0. 0. 0. 0. 0. 0. 0. 0. 0. 0.\n",
      " 0. 0. 0. 0. 0. 0. 0. 0. 0. 0. 0. 0. 0. 0. 0. 0. 0. 0. 0. 0. 0. 0. 0. 0.\n",
      " 0. 0. 0. 0.]\n"
     ]
    }
   ],
   "execution_count": 12
  },
  {
   "metadata": {
    "ExecuteTime": {
     "end_time": "2025-03-31T08:17:47.838371Z",
     "start_time": "2025-03-31T08:17:47.835697Z"
    }
   },
   "cell_type": "code",
   "source": [
    "new_h = np.zeros((2 * h.shape[0] - 1))\n",
    "new_hu = np.zeros((2 * hu.shape[0] - 1))\n",
    "\n",
    "new_h[::2] = h\n",
    "new_h[1::2] = (h[:-1] + h[1:]) // 2\n",
    "\n",
    "new_hu[::2] = hu\n",
    "new_hu[1::2] = (hu[:-1] + hu[1:]) // 2"
   ],
   "id": "9ec929e16c87147",
   "outputs": [],
   "execution_count": 13
  },
  {
   "metadata": {
    "ExecuteTime": {
     "end_time": "2025-03-31T08:17:10.626112Z",
     "start_time": "2025-03-31T08:17:10.586928Z"
    }
   },
   "cell_type": "code",
   "source": "h_cabaret, hu_cabaret = compute(new_h.copy(), new_hu.copy(), solver_scheme='cabaret_classic')",
   "id": "fb9155742a8e5fac",
   "outputs": [],
   "execution_count": 9
  },
  {
   "metadata": {
    "ExecuteTime": {
     "end_time": "2025-03-17T16:10:24.896602Z",
     "start_time": "2025-03-17T16:10:24.893230Z"
    }
   },
   "cell_type": "code",
   "source": [
    "def plot_vals(axes, x, h, hu):\n",
    "    axes[0].plot(x, h, label='s Method', linestyle='-', color='green')\n",
    "    axes[0].set_ylabel('Water Depth (h)')\n",
    "    axes[0].legend()\n",
    "    axes[0].grid()\n",
    "    axes[0].set_title('Water Depth (h) Comparison')\n",
    "\n",
    "    axes[1].plot(x, hu, label='s Method', linestyle='-', color='green')\n",
    "    axes[1].set_ylabel('Water Depth (h)')\n",
    "    axes[1].legend()\n",
    "    axes[1].grid()\n",
    "    axes[1].set_title('Water Depth (h) Comparison')\n",
    "    plt.show()"
   ],
   "id": "47e81e743cdcda80",
   "outputs": [],
   "execution_count": 200
  },
  {
   "metadata": {
    "ExecuteTime": {
     "end_time": "2025-03-31T08:17:49.974252Z",
     "start_time": "2025-03-31T08:17:49.551247Z"
    }
   },
   "cell_type": "code",
   "source": [
    "# h_approx, hu_approx = compute(h, hu, solver=0)\n",
    "# h_iter, hu_iter = compute(h, hu, solver_scheme='godunov_iter')\n",
    "h_newton, hu_newton = compute(h.copy(), hu.copy(), solver_scheme='godunov_newton')\n",
    "# print('------------')\n",
    "h_cabaret, hu_cabaret = compute(new_h.copy(), new_hu.copy(), solver_scheme='cabaret_classic')\n",
    "# h_cabaret_nn, hu_cabaret_nn = compute(new_h.copy(), new_hu.copy(), solver_scheme='cabaret_nn')\n",
    "# h_nn, hu_nn = compute(h, hu, solver_scheme='godunov_nn')\n",
    "# Add a call to the cabaret solver\n",
    "# h_cabaret, hu_cabaret = compute(h, hu, solver_scheme='cabaret')\n",
    "\n",
    "\n",
    "# Plot final results using subplots\n",
    "x = np.linspace(0, L, nx)\n",
    "\n",
    "fig, axes = plt.subplots(2, 1, figsize=(10, 10), sharex=True)\n",
    "\n",
    "# Plot water depth (h)\n",
    "# axes[0].plot(x, h_approx, label='Approximate Solve', linestyle='-', color='blue')\n",
    "# axes[0].plot(x, h_iter, label='Iterative Solver', linestyle='-', color='orange')\n",
    "axes[0].plot(x, h_newton, label='Godunov Solver with Newton\\'s Method', linestyle='-', color='green')\n",
    "axes[0].plot(x, h_cabaret[::2], label='Classic Cabaret\\'s Method', linestyle='-', color='yellow')\n",
    "# axes[0].plot(x, h_cabaret_nn[::2], label='NN Cabaret\\'s Method', linestyle='-', color='blue')\n",
    "# axes[0].plot(x, h_nn, label='NN', linestyle='-', color='red')\n",
    "axes[0].set_ylabel('Water Depth (h)')\n",
    "axes[0].legend()\n",
    "axes[0].grid()\n",
    "axes[0].set_title('Water Depth (h) Comparison')\n",
    "\n",
    "# Plot momentum (hu)\n",
    "# axes[1].plot(x, hu_approx, label='Approximate Solver', linestyle='-', color='blue')\n",
    "# axes[1].plot(x, hu_iter, label='Iterative Solver', linestyle='-', color='orange')\n",
    "axes[1].plot(x, hu_newton, label='Godunov Solver with Newton\\'s Method', linestyle='-', color='green')\n",
    "axes[1].plot(x, hu_cabaret[::2], label='Classic Cabaret\\'s Method', linestyle='-', color='yellow')\n",
    "# axes[1].plot(x, hu_cabaret_nn[::2], label='NN Cabaret\\'s Method', linestyle='-', color='xkcd:sky blue')\n",
    "# axes[1].plot(x, hu_nn, label='NN', linestyle='-', color='red')\n",
    "axes[1].set_ylabel('Momentum (hu)')\n",
    "axes[1].legend()\n",
    "axes[1].grid()\n",
    "axes[1].set_title('Momentum (hu) Comparison')\n",
    "\n",
    "# Adjust layout\n",
    "plt.tight_layout()\n",
    "\n",
    "\n",
    "# Save the plot as a PNG file\n",
    "plt.savefig('myplot.png')\n",
    "\n",
    "plt.show()"
   ],
   "id": "85cd2d110937c78d",
   "outputs": [
    {
     "name": "stdout",
     "output_type": "stream",
     "text": [
      "newton\n"
     ]
    },
    {
     "data": {
      "text/plain": [
       "<Figure size 1000x1000 with 2 Axes>"
      ],
      "image/png": "[encoded data removed]"
     },
     "metadata": {},
     "output_type": "display_data"
    }
   ],
   "execution_count": 14
  },
  {
   "metadata": {},
   "cell_type": "code",
   "source": "h_cabaret",
   "id": "943df885de9db4c8",
   "outputs": [],
   "execution_count": null
  },
  {
   "metadata": {},
   "cell_type": "code",
   "source": "riemann_solver_newton(1, 1, 2, -1)",
   "id": "c2c48a38c6fdd953",
   "outputs": [],
   "execution_count": null
  },
  {
   "metadata": {},
   "cell_type": "code",
   "source": "riemann_solver_newton(2, 1, 4, -1)",
   "id": "72207f24e513951d",
   "outputs": [],
   "execution_count": null
  },
  {
   "metadata": {},
   "cell_type": "code",
   "source": "",
   "id": "85e161e519c85299",
   "outputs": [],
   "execution_count": null
  }
 ],
 "metadata": {
  "kernelspec": {
   "display_name": "Python 3",
   "language": "python",
   "name": "python3"
  },
  "language_info": {
   "codemirror_mode": {
    "name": "ipython",
    "version": 2
   },
   "file_extension": ".py",
   "mimetype": "text/x-python",
   "name": "python",
   "nbconvert_exporter": "python",
   "pygments_lexer": "ipython2",
   "version": "2.7.6"
  }
 },
 "nbformat": 4,
 "nbformat_minor": 5
}
