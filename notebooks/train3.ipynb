{
 "cells": [
  {
   "metadata": {
    "ExecuteTime": {
     "end_time": "2025-10-20T05:24:10.799764Z",
     "start_time": "2025-10-20T05:24:09.438595Z"
    }
   },
   "cell_type": "code",
   "source": [
    "import time\n",
    "\n",
    "import torch\n",
    "import torch.nn as nn\n",
    "from anyio import sleep\n",
    "from numba.cuda.printimpl import print_item\n",
    "from numpy import character\n",
    "from torch.utils.data import Dataset, DataLoader, TensorDataset\n",
    "import torch.optim as optim\n",
    "import matplotlib.pyplot as plt\n",
    "from tqdm import tqdm\n",
    "from IPython.display import clear_output"
   ],
   "id": "d6e1193fe73185fa",
   "outputs": [],
   "execution_count": 1
  },
  {
   "metadata": {
    "ExecuteTime": {
     "end_time": "2025-10-20T05:24:10.810178Z",
     "start_time": "2025-10-20T05:24:10.807396Z"
    }
   },
   "cell_type": "code",
   "source": [
    "from solvers import riemann_solver_newton\n",
    "\n",
    "import numpy as np\n",
    "import pandas as pd\n",
    "import seaborn as sns"
   ],
   "id": "5516bbeb6630cc0d",
   "outputs": [],
   "execution_count": 2
  },
  {
   "metadata": {
    "ExecuteTime": {
     "end_time": "2025-10-20T05:24:10.992174Z",
     "start_time": "2025-10-20T05:24:10.893906Z"
    }
   },
   "cell_type": "code",
   "source": [
    "df = pd.read_csv('../datasets/riemann_pairs_2.csv')\n",
    "\n",
    "# y = df[['I1_node_n_plus_1[j]', 'I2_node_n_plus_1[j]']]\n",
    "y = df[['h_true', 'hu_true', 'dt']]\n",
    "\n",
    "X = df.drop(columns=['h_true', 'hu_true', 'dt'])\n",
    "# X = df.drop(columns=['I1_node_n_plus_1[j]', 'I2_node_n_plus_1[j]', 'I1_node_true', 'I2_node_true'])"
   ],
   "id": "4b2115dbbc3195ab",
   "outputs": [],
   "execution_count": 3
  },
  {
   "metadata": {
    "ExecuteTime": {
     "end_time": "2025-10-20T05:24:11.085338Z",
     "start_time": "2025-10-20T05:24:11.005906Z"
    }
   },
   "cell_type": "code",
   "source": [
    "from sklearn.model_selection import train_test_split\n",
    "\n",
    "train_X, val_X, train_y, val_y = train_test_split(X, y, test_size=0.2, random_state=42)"
   ],
   "id": "9151343c8bd1b55f",
   "outputs": [],
   "execution_count": 4
  },
  {
   "metadata": {
    "ExecuteTime": {
     "end_time": "2025-10-20T05:24:11.806018Z",
     "start_time": "2025-10-20T05:24:11.801247Z"
    }
   },
   "cell_type": "code",
   "source": "y['h_true']",
   "id": "db607bd0956a61ac",
   "outputs": [
    {
     "data": {
      "text/plain": [
       "0        0.909388\n",
       "1        1.024694\n",
       "2       -0.295870\n",
       "3       -0.918737\n",
       "4       -0.332047\n",
       "           ...   \n",
       "25595    1.617763\n",
       "25596   -1.295755\n",
       "25597   -0.045593\n",
       "25598   -0.340861\n",
       "25599   -0.936638\n",
       "Name: h_true, Length: 25600, dtype: float64"
      ]
     },
     "execution_count": 5,
     "metadata": {},
     "output_type": "execute_result"
    }
   ],
   "execution_count": 5
  },
  {
   "metadata": {
    "ExecuteTime": {
     "end_time": "2025-06-12T07:29:35.238531Z",
     "start_time": "2025-06-12T07:29:35.174553Z"
    }
   },
   "cell_type": "code",
   "source": "plt.boxplot(y['h_true'])",
   "id": "951fa80d63459701",
   "outputs": [
    {
     "data": {
      "text/plain": [
       "{'whiskers': [<matplotlib.lines.Line2D at 0x7db13c5cf340>,\n",
       "  <matplotlib.lines.Line2D at 0x7db13c5cf5e0>],\n",
       " 'caps': [<matplotlib.lines.Line2D at 0x7db13c5cf880>,\n",
       "  <matplotlib.lines.Line2D at 0x7db13c5cfb20>],\n",
       " 'boxes': [<matplotlib.lines.Line2D at 0x7db13c5cf0a0>],\n",
       " 'medians': [<matplotlib.lines.Line2D at 0x7db13c5cfdc0>],\n",
       " 'fliers': [<matplotlib.lines.Line2D at 0x7db13c4080a0>],\n",
       " 'means': []}"
      ]
     },
     "execution_count": 156,
     "metadata": {},
     "output_type": "execute_result"
    },
    {
     "data": {
      "text/plain": [
       "<Figure size 640x480 with 1 Axes>"
      ],
      "image/png": "[encoded data removed]"
     },
     "metadata": {},
     "output_type": "display_data"
    }
   ],
   "execution_count": 156
  },
  {
   "metadata": {
    "ExecuteTime": {
     "end_time": "2025-10-20T05:24:17.462502Z",
     "start_time": "2025-10-20T05:24:17.455385Z"
    }
   },
   "cell_type": "code",
   "source": [
    "# Convert pandas DataFrames to PyTorch tensors\n",
    "train_X_tensor = torch.tensor(train_X.values, dtype=torch.float32)\n",
    "val_X_tensor = torch.tensor(val_X.values, dtype=torch.float32)\n",
    "train_y_tensor = torch.tensor(train_y.values, dtype=torch.float32)\n",
    "val_y_tensor = torch.tensor(val_y.values, dtype=torch.float32)\n",
    "\n",
    "# Create TensorDatasets\n",
    "train_dataset = TensorDataset(train_X_tensor, train_y_tensor)\n",
    "val_dataset = TensorDataset(val_X_tensor, val_y_tensor)\n",
    "\n",
    "print(f\"Training dataset size: {len(train_dataset)}\")\n",
    "print(f\"Validation dataset size: {len(val_dataset)}\")\n"
   ],
   "id": "69aff8af0d212503",
   "outputs": [
    {
     "name": "stdout",
     "output_type": "stream",
     "text": [
      "Training dataset size: 20480\n",
      "Validation dataset size: 5120\n"
     ]
    }
   ],
   "execution_count": 6
  },
  {
   "metadata": {
    "ExecuteTime": {
     "end_time": "2025-10-20T05:24:17.701173Z",
     "start_time": "2025-10-20T05:24:17.697280Z"
    }
   },
   "cell_type": "code",
   "source": "train_dataset[3]",
   "id": "a5a03694bd4a56b5",
   "outputs": [
    {
     "data": {
      "text/plain": [
       "(tensor([-0.1950,  7.9001,  7.4154, -4.0770, -3.3893, -1.4706,  0.4331,  7.5819,\n",
       "         -3.7297, -3.1061,  0.1429,  7.3768, -3.8845, -3.2644,  7.9001,  7.4154,\n",
       "          3.7536, -3.3893, -1.4706, -2.3406,  7.5819,  5.5416, -3.1061, -2.0263,\n",
       "          7.3768,  5.0811, -3.2644, -2.2207]),\n",
       " tensor([-1.0760, -3.3871,  0.0038]))"
      ]
     },
     "execution_count": 7,
     "metadata": {},
     "output_type": "execute_result"
    }
   ],
   "execution_count": 7
  },
  {
   "metadata": {
    "ExecuteTime": {
     "end_time": "2025-10-20T05:24:19.998304Z",
     "start_time": "2025-10-20T05:24:19.994865Z"
    }
   },
   "cell_type": "code",
   "source": [
    "# Define batch size\n",
    "batch_size = 64\n",
    "\n",
    "# Create DataLoaders\n",
    "train_loader = DataLoader(train_dataset, batch_size=batch_size, shuffle=True)\n",
    "val_loader = DataLoader(val_dataset, batch_size=batch_size, shuffle=False)\n",
    "\n",
    "print(f\"Training DataLoader batches: {len(train_loader)}\")\n",
    "print(f\"Validation DataLoader batches: {len(val_loader)}\")"
   ],
   "id": "d331093253581724",
   "outputs": [
    {
     "name": "stdout",
     "output_type": "stream",
     "text": [
      "Training DataLoader batches: 320\n",
      "Validation DataLoader batches: 80\n"
     ]
    }
   ],
   "execution_count": 8
  },
  {
   "metadata": {
    "ExecuteTime": {
     "end_time": "2025-10-20T05:24:20.658595Z",
     "start_time": "2025-10-20T05:24:20.656392Z"
    }
   },
   "cell_type": "code",
   "source": "from torch.nn.functional import relu, elu, batch_norm",
   "id": "c8644cb9708bea8b",
   "outputs": [],
   "execution_count": 9
  },
  {
   "metadata": {
    "ExecuteTime": {
     "end_time": "2025-10-20T05:45:44.386078Z",
     "start_time": "2025-10-20T05:45:44.381948Z"
    }
   },
   "cell_type": "code",
   "source": [
    "class MLP(nn.Module):\n",
    "    def __init__(self, input_features=4, hidden_dim=20):\n",
    "        super(MLP, self).__init__()\n",
    "        self.layer1 = nn.Linear(input_features, hidden_dim)\n",
    "        self.layer2 = nn.Linear(hidden_dim, hidden_dim)\n",
    "        self.layer3 = nn.Linear(hidden_dim, hidden_dim)\n",
    "        self.layer4 = nn.Linear(hidden_dim, hidden_dim)\n",
    "        # self.layer5 = nn.Linear(hidden_dim, 2)\n",
    "        self.layer5 = nn.Linear(hidden_dim, 2 * input_features)\n",
    "        self.activation = elu\n",
    "        # self.bn = nn.BatchNorm1d(4)\n",
    "\n",
    "    def forward(self, x):\n",
    "        # if x.dim() == 1:\n",
    "        #     x = x.unsqueeze(1)\n",
    "        # x = self.bn(x)\n",
    "        x = self.activation(self.layer1(x))\n",
    "        x = self.activation(self.layer2(x))\n",
    "        x = self.activation(self.layer3(x))\n",
    "        x = self.activation(self.layer4(x))\n",
    "        x = self.layer5(x)\n",
    "        return x\n",
    "\n",
    "# Example usage\n",
    "input_features = 14  # Specify the number of input features\n",
    "model = MLP(input_features)\n",
    "\n",
    "print(model)\n"
   ],
   "id": "8fd981ff0040fa9e",
   "outputs": [
    {
     "name": "stdout",
     "output_type": "stream",
     "text": [
      "MLP(\n",
      "  (layer1): Linear(in_features=14, out_features=20, bias=True)\n",
      "  (layer2): Linear(in_features=20, out_features=20, bias=True)\n",
      "  (layer3): Linear(in_features=20, out_features=20, bias=True)\n",
      "  (layer4): Linear(in_features=20, out_features=20, bias=True)\n",
      "  (layer5): Linear(in_features=20, out_features=28, bias=True)\n",
      ")\n"
     ]
    }
   ],
   "execution_count": 22
  },
  {
   "metadata": {
    "ExecuteTime": {
     "end_time": "2025-10-20T05:24:27.098329Z",
     "start_time": "2025-10-20T05:24:27.063315Z"
    }
   },
   "cell_type": "code",
   "source": [
    "device = torch.device('cuda' if torch.cuda.is_available() else 'cpu')\n",
    "device"
   ],
   "id": "4d73be536e2eb5e8",
   "outputs": [
    {
     "data": {
      "text/plain": [
       "device(type='cuda')"
      ]
     },
     "execution_count": 11,
     "metadata": {},
     "output_type": "execute_result"
    }
   ],
   "execution_count": 11
  },
  {
   "metadata": {
    "ExecuteTime": {
     "end_time": "2025-10-20T05:24:27.806928Z",
     "start_time": "2025-10-20T05:24:27.804484Z"
    }
   },
   "cell_type": "code",
   "source": [
    "class MSE_Loss_Scaled(torch.nn.Module):\n",
    "    \"\"\"\n",
    "    Mean-squared error loss with custom scaling factors\n",
    "    for each label component.\n",
    "    \"\"\"\n",
    "\n",
    "    def __init__(self):\n",
    "        super().__init__()\n",
    "        # self.register_buffer(\"scaling_factors\", torch.tensor(scaling_factors))\n",
    "\n",
    "    def forward(self, input, target, scale):\n",
    "        mse = torch.mean((input - target) ** 2, dim=0)\n",
    "        mse = torch.dot(scale, mse)\n",
    "        return mse"
   ],
   "id": "4d6dee983db100bc",
   "outputs": [],
   "execution_count": 12
  },
  {
   "metadata": {
    "ExecuteTime": {
     "end_time": "2025-10-20T05:24:48.123921Z",
     "start_time": "2025-10-20T05:24:48.120555Z"
    }
   },
   "cell_type": "code",
   "source": [
    "class MSE_Loss_Scaled(torch.nn.Module):\n",
    "    \"\"\"\n",
    "    Mean-squared error loss with custom scaling factors\n",
    "    for each label component.\n",
    "    \"\"\"\n",
    "    def __init__(self, scaling_factors): # Pass factors during initialization\n",
    "        super().__init__()\n",
    "        # Register as a buffer so it moves with the model to device\n",
    "        # and is saved/loaded with the model's state_dict.\n",
    "        self.register_buffer(\"scaling_factors\", torch.tensor(scaling_factors, dtype=torch.float32))\n",
    "\n",
    "    def forward(self, input, target): # No 'scale' argument needed here\n",
    "        mse_per_output = torch.mean((input - target) ** 2, dim=0)\n",
    "        # Apply the pre-defined scaling factors\n",
    "        # print(self.scaling_factors.device, mse_per_output.device)\n",
    "        weighted_mse = self.scaling_factors * mse_per_output\n",
    "        return weighted_mse.sum() # Sum up the weighted MSEs"
   ],
   "id": "3da9eebf69e6477d",
   "outputs": [],
   "execution_count": 13
  },
  {
   "metadata": {
    "ExecuteTime": {
     "end_time": "2025-10-20T05:24:49.149282Z",
     "start_time": "2025-10-20T05:24:49.145576Z"
    }
   },
   "cell_type": "code",
   "source": [
    "train_y_tensor_std = train_y_tensor[:, :2].std(dim=0)\n",
    "my_scaling_factors = 1.0 / (train_y_tensor_std ** 2)"
   ],
   "id": "d06858b857b10589",
   "outputs": [],
   "execution_count": 14
  },
  {
   "metadata": {
    "ExecuteTime": {
     "end_time": "2025-10-20T05:24:50.232421Z",
     "start_time": "2025-10-20T05:24:50.225759Z"
    }
   },
   "cell_type": "code",
   "source": "my_scaling_factors",
   "id": "21d135ef96b1d778",
   "outputs": [
    {
     "data": {
      "text/plain": [
       "tensor([0.0915, 0.0001])"
      ]
     },
     "execution_count": 15,
     "metadata": {},
     "output_type": "execute_result"
    }
   ],
   "execution_count": 15
  },
  {
   "metadata": {
    "ExecuteTime": {
     "end_time": "2025-10-20T05:25:05.256441Z",
     "start_time": "2025-10-20T05:25:05.185980Z"
    }
   },
   "cell_type": "code",
   "source": [
    "from torch.utils.tensorboard import SummaryWriter\n",
    "from tqdm.auto import tqdm, trange"
   ],
   "id": "a10df926dcd59242",
   "outputs": [],
   "execution_count": 16
  },
  {
   "metadata": {
    "ExecuteTime": {
     "end_time": "2025-10-20T05:25:06.678577Z",
     "start_time": "2025-10-20T05:25:06.673636Z"
    }
   },
   "cell_type": "code",
   "source": [
    "def F_m( H, u):\n",
    "    \"\"\"Mass flux function F_m = Hu.\"\"\"\n",
    "    return H * u\n",
    "\n",
    "def F_h(H, u):\n",
    "    \"\"\"Momentum flux function F_h = Hu^2 + g/2 H^2.\"\"\"\n",
    "    g = 9.806\n",
    "    return H * u ** 2 + 0.5 * g * H ** 2\n",
    "\n",
    "\n",
    "def _step3(self, data_A, data_B, dt):\n",
    "    dx = 0.1\n",
    "    g = 9.806\n",
    "\n",
    "    I1_node_n_plus_1_A = data_A[:, 0]\n",
    "    I2_node_n_plus_1_A = data_A[:, 1]\n",
    "\n",
    "    I1_node_n_plus_1_B = data_B[:, 0]\n",
    "    I2_node_n_plus_1_B = data_B[:, 1]\n",
    "\n",
    "    h_node_n_plus_1_char_A = ((I1_node_n_plus_1_A - I2_node_n_plus_1_A) / 2) ** 2 / g\n",
    "    u_node_n_plus_1_char_A = (I1_node_n_plus_1_A + I2_node_n_plus_1_A) / 2\n",
    "\n",
    "    h_node_n_plus_1_char_B = ((I1_node_n_plus_1_B - I2_node_n_plus_1_B) / 2) ** 2 / g\n",
    "    u_node_n_plus_1_char_B = (I1_node_n_plus_1_B + I2_node_n_plus_1_B) / 2\n",
    "\n",
    "\n",
    "    # h_node_n_plus_1_char_A = data_A[:, 0]\n",
    "    # hu_node_n_plus_1_char_A = data_A[:, 1]\n",
    "    #\n",
    "    # h_node_n_plus_1_char_B = data_B[:, 0]\n",
    "    # hu_node_n_plus_1_char_B = data_B[:, 1]\n",
    "\n",
    "\n",
    "\n",
    "    # Calculate u_node at n+1 from the provisional nodal values.\n",
    "    # Add a small epsilon to avoid division by zero if H is zero.\n",
    "    # u_node_n_plus_1_char_A = hu_node_n_plus_1_char_A / (h_node_n_plus_1_char_A + 1e-12)\n",
    "    # u_node_n_plus_1_char_B = hu_node_n_plus_1_char_B / (h_node_n_plus_1_char_B + 1e-12)\n",
    "\n",
    "    # Fluxes at nodes i and i+1 using the provisional nodal values at n+1.\n",
    "    flux_m_plus_1_A = F_m(h_node_n_plus_1_char_A, u_node_n_plus_1_char_A)\n",
    "    flux_m_plus_1_B = F_m(h_node_n_plus_1_char_B, u_node_n_plus_1_char_B)\n",
    "\n",
    "    flux_h_plus_1_A = F_h(h_node_n_plus_1_char_A, u_node_n_plus_1_char_A)\n",
    "    flux_h_plus_1_B = F_h(h_node_n_plus_1_char_B, u_node_n_plus_1_char_B)\n",
    "\n",
    "    # Apply implicit update for conservative variables (based on Eq. 4 with b=0).\n",
    "    return (\n",
    "        0.5 * dt / dx * (flux_m_plus_1_B - flux_m_plus_1_A),\n",
    "        0.5 * dt / dx * (flux_h_plus_1_B - flux_h_plus_1_A)\n",
    "    )"
   ],
   "id": "e94272fa7c9fec7f",
   "outputs": [],
   "execution_count": 17
  },
  {
   "metadata": {
    "ExecuteTime": {
     "end_time": "2025-10-20T05:54:34.742630Z",
     "start_time": "2025-10-20T05:54:34.732631Z"
    }
   },
   "cell_type": "code",
   "source": [
    "def train_model(model, train_dataloader, val_dataloader, num_epochs=10, learning_rate=0.001):\n",
    "    # criterion = nn.MSELoss()\n",
    "    criterion = MSE_Loss_Scaled(my_scaling_factors.tolist()).to(device)\n",
    "    optimizer = optim.Adam(model.parameters(), lr=learning_rate)\n",
    "\n",
    "    writer = SummaryWriter()\n",
    "\n",
    "    train_losses = []\n",
    "    val_losses = []\n",
    "\n",
    "    pbar = trange(num_epochs)\n",
    "\n",
    "    for epoch in pbar:\n",
    "        running_loss = 0.0\n",
    "        model.train()\n",
    "        for inputs, targets in train_dataloader:\n",
    "            optimizer.zero_grad()\n",
    "\n",
    "            # print(inputs.shape, targets.shape)\n",
    "\n",
    "            a_feats = inputs[:, :input_features]\n",
    "            b_feats = inputs[:, input_features:]\n",
    "\n",
    "            # print(a_feats.shape, b_feats.shape)\n",
    "\n",
    "            a_feats = a_feats.to(device)\n",
    "            w_a_out = model(a_feats)\n",
    "            w_a = w_a_out.view(w_a_out.size(0), 2, -1)\n",
    "            w_a = torch.softmax(w_a, dim=-1)\n",
    "            a_out = torch.einsum('bij,bj->bi', w_a, a_feats)\n",
    "\n",
    "            b_feats = b_feats.to(device)\n",
    "            w_b_out = model(b_feats)\n",
    "            w_b = w_b_out.view(w_b_out.size(0), 2, -1)\n",
    "            w_a = torch.softmax(w_a, dim=-1)\n",
    "            b_out = torch.einsum('bij,bj->bi', w_b, b_feats)\n",
    "\n",
    "\n",
    "            # print(a_out.shape, b_out.shape)\n",
    "            dt = targets[:, 2].to(device)\n",
    "\n",
    "            dh_preds, dhu_preds = _step3(a_out, data_A=a_out, data_B=b_out, dt=dt)\n",
    "\n",
    "            # print(dh_preds.shape, dhu_preds.shape)\n",
    "\n",
    "            target_delta = targets[:, :2]\n",
    "\n",
    "            preds = torch.stack([dh_preds, dhu_preds], dim=1)\n",
    "\n",
    "            # print(preds.shape, target_delta.shape)\n",
    "\n",
    "            loss = criterion(preds, target_delta.to(device))\n",
    "\n",
    "            # return\n",
    "\n",
    "            # loss = criterion(outputs, targets.to(device), 1. / targets.std(dim=0).to(device))\n",
    "            # loss = criterion(outputs, targets.to(device))\n",
    "            # print(loss.shape, loss, targets.std(dim=0).shape)\n",
    "            # loss /= targets.std(dim=0)\n",
    "            loss.backward()\n",
    "\n",
    "            # torch.nn.utils.clip_grad_norm_(model.parameters(), max_norm=1)\n",
    "            optimizer.step()\n",
    "\n",
    "            running_loss += loss.item() * inputs.size(0)\n",
    "\n",
    "        epoch_train_loss = running_loss / len(train_dataloader.dataset)\n",
    "        train_losses.append(epoch_train_loss)\n",
    "\n",
    "        model.eval()\n",
    "        for inputs, targets in val_dataloader:\n",
    "\n",
    "            # print(inputs.shape, targets.shape)\n",
    "\n",
    "            a_feats = inputs[:, :input_features]\n",
    "            b_feats = inputs[:, input_features:]\n",
    "\n",
    "            # print(a_feats.shape, b_feats.shape)\n",
    "\n",
    "\n",
    "            # a_out = model(a_feats.to(device))\n",
    "            # b_out = model(b_feats.to(device))\n",
    "\n",
    "            a_feats = a_feats.to(device)\n",
    "            w_a_out = model(a_feats)\n",
    "            w_a = w_a_out.view(w_a_out.size(0), 2, -1)\n",
    "            w_a = torch.softmax(w_a, dim=-1)\n",
    "            a_out = torch.einsum('bij,bj->bi', w_a, a_feats)\n",
    "\n",
    "            b_feats = b_feats.to(device)\n",
    "            w_b_out = model(b_feats)\n",
    "            w_b = w_b_out.view(w_b_out.size(0), 2, -1)\n",
    "            w_b = torch.softmax(w_b, dim=-1)\n",
    "            b_out = torch.einsum('bij,bj->bi', w_b, b_feats)\n",
    "\n",
    "            # print(a_out.shape, b_out.shape)\n",
    "            dt = targets[:, 2].to(device)\n",
    "\n",
    "            dh_preds, dhu_preds = _step3(a_out, data_A=a_out, data_B=b_out, dt=dt)\n",
    "\n",
    "            # print(dh_preds.shape, dhu_preds.shape)\n",
    "\n",
    "            target_delta = targets[:, :2]\n",
    "\n",
    "            preds = torch.stack([dh_preds, dhu_preds], dim=1)\n",
    "\n",
    "            # print(preds.shape, target_delta.shape)\n",
    "\n",
    "            loss = criterion(preds, target_delta.to(device))\n",
    "\n",
    "            running_loss += loss.item() * inputs.size(0)\n",
    "\n",
    "        epoch_val_loss = running_loss / len(val_dataloader.dataset)\n",
    "        val_losses.append(epoch_val_loss)\n",
    "\n",
    "        if val_losses[-1] <= min(val_losses):\n",
    "            print('Saving model ...')\n",
    "            torch.save(model.state_dict(), '../checkpoints/model_pairs_5.pt')\n",
    "\n",
    "\n",
    "        # Log losses to TensorBoard\n",
    "        writer.add_scalar('Loss/Train', epoch_train_loss, epoch)\n",
    "        writer.add_scalar('Loss/Validation', epoch_val_loss, epoch)\n",
    "\n",
    "        if ((epoch + 1) % 10) == 0:\n",
    "            # tqdm.write(f'Epoch {epoch+1}/{num_epochs}, Train Loss: {epoch_train_loss:.4f}, Val Loss: {epoch_val_loss:.4f}')\n",
    "            pbar.set_description(desc=f'Epoch {epoch+1}/{num_epochs}, Train Loss: {epoch_train_loss:.4f}, Val Loss: {epoch_val_loss:.4f}')"
   ],
   "id": "7c07a3995de82436",
   "outputs": [],
   "execution_count": 29
  },
  {
   "metadata": {
    "ExecuteTime": {
     "end_time": "2025-10-20T06:05:01.717466Z",
     "start_time": "2025-10-20T05:54:36.123801Z"
    }
   },
   "cell_type": "code",
   "source": [
    "model = MLP(input_features=input_features, hidden_dim=40)\n",
    "# criterion = nn.MSELoss()\n",
    "# optimizer = optim.Adam(model.parameters(), lr=0.001)\n",
    "optimizer = optim.LBFGS(model.parameters())\n",
    "train_model(model.to(device), train_loader, val_loader, num_epochs=800)"
   ],
   "id": "e4041e89f1e0c02c",
   "outputs": [
    {
     "data": {
      "text/plain": [
       "  0%|          | 0/800 [00:00<?, ?it/s]"
      ],
      "application/vnd.jupyter.widget-view+json": {
       "version_major": 2,
       "version_minor": 0,
       "model_id": "8f862d32d002444585ec456b61544a8b"
      }
     },
     "metadata": {},
     "output_type": "display_data"
    },
    {
     "name": "stdout",
     "output_type": "stream",
     "text": [
      "Saving model ...\n",
      "Saving model ...\n",
      "Saving model ...\n",
      "Saving model ...\n",
      "Saving model ...\n",
      "Saving model ...\n",
      "Saving model ...\n",
      "Saving model ...\n",
      "Saving model ...\n",
      "Saving model ...\n",
      "Saving model ...\n",
      "Saving model ...\n",
      "Saving model ...\n",
      "Saving model ...\n",
      "Saving model ...\n",
      "Saving model ...\n",
      "Saving model ...\n",
      "Saving model ...\n",
      "Saving model ...\n",
      "Saving model ...\n",
      "Saving model ...\n",
      "Saving model ...\n",
      "Saving model ...\n",
      "Saving model ...\n",
      "Saving model ...\n",
      "Saving model ...\n",
      "Saving model ...\n",
      "Saving model ...\n",
      "Saving model ...\n",
      "Saving model ...\n",
      "Saving model ...\n",
      "Saving model ...\n",
      "Saving model ...\n",
      "Saving model ...\n",
      "Saving model ...\n",
      "Saving model ...\n",
      "Saving model ...\n",
      "Saving model ...\n",
      "Saving model ...\n",
      "Saving model ...\n",
      "Saving model ...\n",
      "Saving model ...\n",
      "Saving model ...\n",
      "Saving model ...\n",
      "Saving model ...\n",
      "Saving model ...\n",
      "Saving model ...\n",
      "Saving model ...\n",
      "Saving model ...\n",
      "Saving model ...\n",
      "Saving model ...\n",
      "Saving model ...\n",
      "Saving model ...\n",
      "Saving model ...\n",
      "Saving model ...\n",
      "Saving model ...\n",
      "Saving model ...\n",
      "Saving model ...\n",
      "Saving model ...\n",
      "Saving model ...\n",
      "Saving model ...\n",
      "Saving model ...\n",
      "Saving model ...\n",
      "Saving model ...\n",
      "Saving model ...\n",
      "Saving model ...\n",
      "Saving model ...\n",
      "Saving model ...\n",
      "Saving model ...\n",
      "Saving model ...\n",
      "Saving model ...\n",
      "Saving model ...\n",
      "Saving model ...\n",
      "Saving model ...\n",
      "Saving model ...\n",
      "Saving model ...\n",
      "Saving model ...\n",
      "Saving model ...\n",
      "Saving model ...\n",
      "Saving model ...\n",
      "Saving model ...\n"
     ]
    }
   ],
   "execution_count": 30
  },
  {
   "metadata": {
    "ExecuteTime": {
     "end_time": "2025-06-11T22:28:14.459411Z",
     "start_time": "2025-06-11T22:28:14.448814Z"
    }
   },
   "cell_type": "code",
   "source": "torch.save(model.state_dict(), '../checkpoints/model_pairs_1.pt')",
   "id": "e68cc6dd15bca4b7",
   "outputs": [],
   "execution_count": 77
  },
  {
   "metadata": {
    "ExecuteTime": {
     "end_time": "2025-06-12T07:13:45.628125Z",
     "start_time": "2025-06-12T07:13:45.622024Z"
    }
   },
   "cell_type": "code",
   "source": [
    "from models import load_nn\n",
    "\n",
    "model = load_nn(path='../checkpoints/model_new_1.pt', input_features=input_features, n_feats=20)"
   ],
   "id": "2dc37828c7f09a94",
   "outputs": [],
   "execution_count": 139
  },
  {
   "metadata": {
    "ExecuteTime": {
     "end_time": "2025-06-11T23:11:05.050651Z",
     "start_time": "2025-06-11T23:11:05.048098Z"
    }
   },
   "cell_type": "code",
   "source": "model.eval()",
   "id": "a61941aa50801061",
   "outputs": [
    {
     "data": {
      "text/plain": [
       "MLP(\n",
       "  (layer1): Linear(in_features=14, out_features=40, bias=True)\n",
       "  (layer2): Linear(in_features=40, out_features=40, bias=True)\n",
       "  (layer3): Linear(in_features=40, out_features=40, bias=True)\n",
       "  (layer4): Linear(in_features=40, out_features=40, bias=True)\n",
       "  (layer5): Linear(in_features=40, out_features=2, bias=True)\n",
       ")"
      ]
     },
     "execution_count": 129,
     "metadata": {},
     "output_type": "execute_result"
    }
   ],
   "execution_count": 129
  },
  {
   "metadata": {
    "ExecuteTime": {
     "end_time": "2025-06-12T07:13:52.238509Z",
     "start_time": "2025-06-12T07:13:52.234625Z"
    }
   },
   "cell_type": "code",
   "source": [
    "inputs = train_dataset[0]\n",
    "# inputs = torch.tensor([[5, 0, 5, 0], [2, 1, 2, 1]], dtype=torch.float32)\n",
    "inputs"
   ],
   "id": "5643ff1de6306e01",
   "outputs": [
    {
     "data": {
      "text/plain": [
       "(tensor([ 8.7139,  1.7019,  5.3457, -1.4378, -2.8163, -1.9223,  8.4930,  3.2553,\n",
       "         -1.5061, -2.0472,  8.6047,  3.5577, -1.4710, -1.9074,  1.7019,  5.3457,\n",
       "          7.8997, -2.8163, -1.9223, -1.6991,  3.2553,  6.7675, -2.0472, -1.5963,\n",
       "          3.5577,  7.0871, -1.9074, -1.4752]),\n",
       " tensor([0.3667, 1.1291, 0.0034]))"
      ]
     },
     "execution_count": 140,
     "metadata": {},
     "output_type": "execute_result"
    }
   ],
   "execution_count": 140
  },
  {
   "metadata": {
    "ExecuteTime": {
     "end_time": "2025-06-12T07:13:55.087855Z",
     "start_time": "2025-06-12T07:13:55.084696Z"
    }
   },
   "cell_type": "code",
   "source": [
    "targets = inputs[1]\n",
    "targets"
   ],
   "id": "1bccd2f35f737455",
   "outputs": [
    {
     "data": {
      "text/plain": [
       "tensor([0.3667, 1.1291, 0.0034])"
      ]
     },
     "execution_count": 141,
     "metadata": {},
     "output_type": "execute_result"
    }
   ],
   "execution_count": 141
  },
  {
   "metadata": {
    "ExecuteTime": {
     "end_time": "2025-06-12T07:13:58.794613Z",
     "start_time": "2025-06-12T07:13:58.790497Z"
    }
   },
   "cell_type": "code",
   "source": [
    "model.to(device)\n",
    "model(inputs[0][:input_features].to(device))"
   ],
   "id": "87f7c667caccad16",
   "outputs": [
    {
     "data": {
      "text/plain": [
       "tensor([ 6.8053, -3.6987], device='cuda:0', grad_fn=<ViewBackward0>)"
      ]
     },
     "execution_count": 142,
     "metadata": {},
     "output_type": "execute_result"
    }
   ],
   "execution_count": 142
  },
  {
   "metadata": {
    "ExecuteTime": {
     "end_time": "2025-06-12T07:14:00.043048Z",
     "start_time": "2025-06-12T07:14:00.034502Z"
    }
   },
   "cell_type": "code",
   "source": "model(inputs[0][input_features:].to(device))",
   "id": "cdc88ff7591a8aed",
   "outputs": [
    {
     "data": {
      "text/plain": [
       "tensor([ 4.8287, -1.7431], device='cuda:0', grad_fn=<ViewBackward0>)"
      ]
     },
     "execution_count": 143,
     "metadata": {},
     "output_type": "execute_result"
    }
   ],
   "execution_count": 143
  },
  {
   "metadata": {
    "ExecuteTime": {
     "end_time": "2025-06-12T07:14:03.055469Z",
     "start_time": "2025-06-12T07:14:03.053408Z"
    }
   },
   "cell_type": "code",
   "source": [
    "inputs = inputs[0].unsqueeze(0)\n",
    "targets = targets.unsqueeze(0)"
   ],
   "id": "7a27a82a8dfbfa93",
   "outputs": [],
   "execution_count": 144
  },
  {
   "metadata": {
    "ExecuteTime": {
     "end_time": "2025-06-12T07:14:04.286233Z",
     "start_time": "2025-06-12T07:14:04.279593Z"
    }
   },
   "cell_type": "code",
   "source": [
    "a_feats = inputs[:, :input_features]\n",
    "b_feats = inputs[:, input_features:]\n",
    "\n",
    "# print(a_feats.shape, b_feats.shape)\n",
    "\n",
    "\n",
    "a_out = model(a_feats.to(device))\n",
    "b_out = model(b_feats.to(device))\n",
    "\n",
    "# print(a_out.shape, b_out.shape)\n",
    "dt = targets[:, 2].to(device)\n",
    "\n",
    "dh_preds, dhu_preds = _step3(a_out, data_A=a_out, data_B=b_out, dt=dt)\n",
    "print(dh_preds, dhu_preds)"
   ],
   "id": "13ec026aa7f753e8",
   "outputs": [
    {
     "name": "stdout",
     "output_type": "stream",
     "text": [
      "tensor([-0.0460], device='cuda:0', grad_fn=<MulBackward0>) tensor([-0.6371], device='cuda:0', grad_fn=<MulBackward0>)\n"
     ]
    }
   ],
   "execution_count": 145
  },
  {
   "metadata": {
    "ExecuteTime": {
     "end_time": "2025-03-31T08:17:07.516145Z",
     "start_time": "2025-03-31T08:17:07.513647Z"
    }
   },
   "cell_type": "code",
   "source": "model = None",
   "id": "af19007f28d61b60",
   "outputs": [],
   "execution_count": 8
  },
  {
   "metadata": {
    "ExecuteTime": {
     "end_time": "2025-03-18T07:34:54.861038Z",
     "start_time": "2025-03-18T07:34:54.857080Z"
    }
   },
   "cell_type": "code",
   "source": [
    "import solvers as ssh\n",
    "from importlib import reload\n",
    "reload(ssh)"
   ],
   "id": "a6371dc9e566ca57",
   "outputs": [
    {
     "data": {
      "text/plain": [
       "<module 'shallow' from '/home/timur/Coding/Riemann/shallow.py'>"
      ]
     },
     "execution_count": 64,
     "metadata": {},
     "output_type": "execute_result"
    }
   ],
   "execution_count": 64
  },
  {
   "metadata": {
    "ExecuteTime": {
     "end_time": "2025-05-29T22:15:39.261221Z",
     "start_time": "2025-05-29T22:15:39.258622Z"
    }
   },
   "cell_type": "code",
   "source": "from solvers import GodunovSolver, CabaretSolver, RiemannSolver",
   "id": "c1b24e5ee5f5737f",
   "outputs": [],
   "execution_count": 57
  },
  {
   "metadata": {},
   "cell_type": "code",
   "outputs": [],
   "execution_count": null,
   "source": [
    "from order import plot\n",
    "\n"
   ],
   "id": "bd68cc015da2bf08"
  },
  {
   "metadata": {
    "ExecuteTime": {
     "end_time": "2025-05-29T22:15:43.439016Z",
     "start_time": "2025-05-29T22:15:43.432761Z"
    }
   },
   "cell_type": "code",
   "source": [
    "t_end = 2  # Simulation end time\n",
    "def compute(h, hu, solver_scheme='godunov'):\n",
    "    if solver_scheme == 'godunov_classic' or solver_scheme == 'godunov_iter' or solver_scheme == 'godunov_newton' or solver_scheme == 'godunov_nn':\n",
    "        solver = GodunovSolver(solver_func=solver_scheme[8:], model=model if model is not None else None)\n",
    "    else:\n",
    "        solver = CabaretSolver(solver_func=solver_scheme[8:], model=model if model is not None else None)\n",
    "\n",
    "\n",
    "    t = 0.0\n",
    "    times = []\n",
    "    while t < t_end:\n",
    "        times.append(t)\n",
    "        u = np.where(h > 0, hu / h, 0)\n",
    "        c = np.sqrt(g * h)\n",
    "        dt = CFL * dx / (np.max(np.abs(u) + c))  # Adaptive time step\n",
    "\n",
    "        if solver_scheme == 'godunov_classic':\n",
    "            h, hu = solver.step(h, hu, dx, dt)\n",
    "        elif solver_scheme == 'godunov_iter':\n",
    "            h, hu = solver.step(h, hu, dx, dt)\n",
    "        elif solver_scheme == 'godunov_newton':\n",
    "            h, hu = solver.step(h, hu, dx, dt)\n",
    "        elif solver_scheme == 'godunov_nn':\n",
    "            h, hu = solver.step(h, hu, dx, dt)\n",
    "        elif solver_scheme == 'cabaret_classic':\n",
    "            h, hu = solver.step(h, hu, dx, dt)\n",
    "        elif solver_scheme == 'cabaret_nn':\n",
    "            h, hu = solver.step(h, hu, dx, dt)\n",
    "        else:\n",
    "            raise ValueError(f\"Unknown solver scheme: {solver_scheme}\")\n",
    "\n",
    "        t += dt.item()\n",
    "\n",
    "    # print(times)\n",
    "    return h, hu"
   ],
   "id": "5fa231479b872491",
   "outputs": [],
   "execution_count": 58
  },
  {
   "metadata": {
    "ExecuteTime": {
     "end_time": "2025-05-29T22:15:46.754348Z",
     "start_time": "2025-05-29T22:15:46.750667Z"
    }
   },
   "cell_type": "code",
   "source": [
    "# Simulation setup\n",
    "L = 10.0  # Domain length (m)\n",
    "nx = 100  # Number of spatial points\n",
    "dx = L / nx  # Spatial resolution\n",
    "g = 9.8066  # Gravitational acceleration (m/s^2)\n",
    "CFL = 0.5  # CFL condition\n",
    "\n",
    "# Initial conditions\n",
    "h = np.ones(nx)\n",
    "h[:nx//2] = 2  # Step in water depth\n",
    "# h[nx // 4:nx //2] = 10  # Step in water depth\n",
    "u = np.ones(nx)\n",
    "hu = h * u  # Momentum (initially zero)\n",
    "# hu[:nx // 5] = 2.5\n",
    "print(h, hu, sep='\\n')"
   ],
   "id": "f724e4ad73048c66",
   "outputs": [
    {
     "name": "stdout",
     "output_type": "stream",
     "text": [
      "[2. 2. 2. 2. 2. 2. 2. 2. 2. 2. 2. 2. 2. 2. 2. 2. 2. 2. 2. 2. 2. 2. 2. 2.\n",
      " 2. 2. 2. 2. 2. 2. 2. 2. 2. 2. 2. 2. 2. 2. 2. 2. 2. 2. 2. 2. 2. 2. 2. 2.\n",
      " 2. 2. 1. 1. 1. 1. 1. 1. 1. 1. 1. 1. 1. 1. 1. 1. 1. 1. 1. 1. 1. 1. 1. 1.\n",
      " 1. 1. 1. 1. 1. 1. 1. 1. 1. 1. 1. 1. 1. 1. 1. 1. 1. 1. 1. 1. 1. 1. 1. 1.\n",
      " 1. 1. 1. 1.]\n",
      "[2. 2. 2. 2. 2. 2. 2. 2. 2. 2. 2. 2. 2. 2. 2. 2. 2. 2. 2. 2. 2. 2. 2. 2.\n",
      " 2. 2. 2. 2. 2. 2. 2. 2. 2. 2. 2. 2. 2. 2. 2. 2. 2. 2. 2. 2. 2. 2. 2. 2.\n",
      " 2. 2. 1. 1. 1. 1. 1. 1. 1. 1. 1. 1. 1. 1. 1. 1. 1. 1. 1. 1. 1. 1. 1. 1.\n",
      " 1. 1. 1. 1. 1. 1. 1. 1. 1. 1. 1. 1. 1. 1. 1. 1. 1. 1. 1. 1. 1. 1. 1. 1.\n",
      " 1. 1. 1. 1.]\n"
     ]
    }
   ],
   "execution_count": 59
  },
  {
   "metadata": {
    "ExecuteTime": {
     "end_time": "2025-05-29T22:15:49.020576Z",
     "start_time": "2025-05-29T22:15:49.012179Z"
    }
   },
   "cell_type": "code",
   "source": [
    "new_h = np.zeros((2 * h.shape[0] - 1))\n",
    "new_hu = np.zeros((2 * hu.shape[0] - 1))\n",
    "\n",
    "new_h[::2] = h\n",
    "new_h[1::2] = (h[:-1] + h[1:]) / 2\n",
    "\n",
    "new_hu[::2] = hu\n",
    "new_hu[1::2] = (hu[:-1] + hu[1:]) / 2"
   ],
   "id": "9ec929e16c87147",
   "outputs": [],
   "execution_count": 60
  },
  {
   "metadata": {
    "ExecuteTime": {
     "end_time": "2025-05-29T22:15:57.029584Z",
     "start_time": "2025-05-29T22:15:56.897010Z"
    }
   },
   "cell_type": "code",
   "source": "h_cabaret, hu_cabaret = compute(new_h.copy(), new_hu.copy(), solver_scheme='cabaret_classic')",
   "id": "fb9155742a8e5fac",
   "outputs": [
    {
     "name": "stdout",
     "output_type": "stream",
     "text": [
      "Cabaret solver:  classic\n"
     ]
    },
    {
     "name": "stderr",
     "output_type": "stream",
     "text": [
      "/home/timur/Coding/Riemann/solvers.py:285: RuntimeWarning: invalid value encountered in sqrt\n",
      "  neg_char_new = u - 2 * np.sqrt(self.g * h)\n",
      "/home/timur/Coding/Riemann/solvers.py:286: RuntimeWarning: invalid value encountered in sqrt\n",
      "  pos_char_new = u + 2 * np.sqrt(self.g * h)\n",
      "/home/timur/Coding/Riemann/solvers.py:289: RuntimeWarning: invalid value encountered in scalar power\n",
      "  lambda_left_neg = u[i - 1] - (self.g * h[i - 1]) ** 0.5\n",
      "/home/timur/Coding/Riemann/solvers.py:290: RuntimeWarning: invalid value encountered in scalar power\n",
      "  lambda_left_pos = u[i - 1] + (self.g * h[i - 1]) ** 0.5\n"
     ]
    }
   ],
   "execution_count": 61
  },
  {
   "metadata": {
    "ExecuteTime": {
     "end_time": "2025-05-29T22:16:03.478989Z",
     "start_time": "2025-05-29T22:16:03.474795Z"
    }
   },
   "cell_type": "code",
   "source": [
    "def plot_vals(axes, x, h, hu):\n",
    "    axes[0].plot(x, h, label='s Method', linestyle='-', color='green')\n",
    "    axes[0].set_ylabel('Water Depth (h)')\n",
    "    axes[0].legend()\n",
    "    axes[0].grid()\n",
    "    axes[0].set_title('Water Depth (h) Comparison')\n",
    "\n",
    "    axes[1].plot(x, hu, label='s Method', linestyle='-', color='green')\n",
    "    axes[1].set_ylabel('Water Depth (h)')\n",
    "    axes[1].legend()\n",
    "    axes[1].grid()\n",
    "    axes[1].set_title('Water Depth (h) Comparison')\n",
    "    plt.show()"
   ],
   "id": "47e81e743cdcda80",
   "outputs": [],
   "execution_count": 62
  },
  {
   "metadata": {
    "ExecuteTime": {
     "end_time": "2025-05-29T19:52:33.368037Z",
     "start_time": "2025-05-29T19:52:33.366210Z"
    }
   },
   "cell_type": "code",
   "source": "model = None",
   "id": "cbdb6c1ed22a62bb",
   "outputs": [],
   "execution_count": 12
  },
  {
   "metadata": {},
   "cell_type": "code",
   "source": [
    "# h_approx, hu_approx = compute(h, hu, solver=0)\n",
    "# h_iter, hu_iter = compute(h, hu, solver_scheme='godunov_iter')\n",
    "h_newton, hu_newton = compute(h.copy(), hu.copy(), solver_scheme='godunov_newton')\n",
    "# print('------------')\n",
    "# h_cabaret, hu_cabaret = compute(new_h.copy(), new_hu.copy(), solver_scheme='cabaret_classic')\n",
    "# h_cabaret_nn, hu_cabaret_nn = compute(new_h.copy(), new_hu.copy(), solver_scheme='cabaret_nn')\n",
    "h_nn, hu_nn = compute(h, hu, solver_scheme='godunov_nn')\n",
    "# Add a call to the cabaret solver\n",
    "# h_cabaret, hu_cabaret = compute(h, hu, solver_scheme='cabaret')\n",
    "\n",
    "\n",
    "# Plot final results using subplots\n",
    "x = np.linspace(0, L, nx)\n",
    "\n",
    "fig, axes = plt.subplots(2, 1, figsize=(10, 10), sharex=True)\n",
    "\n",
    "# Plot water depth (h)\n",
    "# axes[0].plot(x, h_approx, label='Approximate Solve', linestyle='-', color='blue')\n",
    "# axes[0].plot(x, h_iter, label='Iterative Solver', linestyle='-', color='orange')\n",
    "axes[0].plot(x, h_newton, label='Godunov Solver with Newton\\'s Method', linestyle='-', color='green')\n",
    "# axes[0].plot(x, h_cabaret[::2], label='Classic Cabaret\\'s Method', linestyle='-', color='yellow')\n",
    "# axes[0].plot(x, h_cabaret_nn[::2], label='NN Cabaret\\'s Method', linestyle='-', color='blue')\n",
    "axes[0].plot(x, h_nn, label='NN', linestyle='-', color='red')\n",
    "axes[0].set_ylabel('Water Depth (h)')\n",
    "axes[0].legend()\n",
    "axes[0].grid()\n",
    "axes[0].set_title('Water Depth (h) Comparison')\n",
    "\n",
    "# Plot momentum (hu)\n",
    "# axes[1].plot(x, hu_approx, label='Approximate Solver', linestyle='-', color='blue')\n",
    "# axes[1].plot(x, hu_iter, label='Iterative Solver', linestyle='-', color='orange')\n",
    "axes[1].plot(x, hu_newton, label='Godunov Solver with Newton\\'s Method', linestyle='-', color='green')\n",
    "# axes[1].plot(x, hu_cabaret[::2], label='Classic Cabaret\\'s Method', linestyle='-', color='yellow')\n",
    "# axes[1].plot(x, hu_cabaret_nn[::2], label='NN Cabaret\\'s Method', linestyle='-', color='xkcd:sky blue')\n",
    "axes[1].plot(x, hu_nn, label='NN', linestyle='-', color='red')\n",
    "axes[1].set_ylabel('Momentum (hu)')\n",
    "axes[1].legend()\n",
    "axes[1].grid()\n",
    "axes[1].set_title('Momentum (hu) Comparison')\n",
    "\n",
    "# Adjust layout\n",
    "plt.tight_layout()\n",
    "\n",
    "\n",
    "# Save the plot as a PNG file\n",
    "plt.savefig('myplot.png')\n",
    "\n",
    "plt.show()"
   ],
   "id": "85cd2d110937c78d",
   "outputs": [],
   "execution_count": null
  },
  {
   "metadata": {},
   "cell_type": "code",
   "source": "h_cabaret",
   "id": "943df885de9db4c8",
   "outputs": [],
   "execution_count": null
  },
  {
   "metadata": {
    "ExecuteTime": {
     "end_time": "2025-05-31T18:34:27.214711Z",
     "start_time": "2025-05-31T18:34:26.343450Z"
    }
   },
   "cell_type": "code",
   "source": [
    "from models import *\n",
    "import torch"
   ],
   "id": "85e161e519c85299",
   "outputs": [],
   "execution_count": 1
  },
  {
   "metadata": {
    "ExecuteTime": {
     "end_time": "2025-05-31T18:34:27.320416Z",
     "start_time": "2025-05-31T18:34:27.220187Z"
    }
   },
   "cell_type": "code",
   "source": "model_old = load_nn(path='../checkpoints/model_new_1.pt')",
   "id": "b230b16ab2380857",
   "outputs": [],
   "execution_count": 2
  },
  {
   "metadata": {
    "ExecuteTime": {
     "end_time": "2025-05-30T21:20:05.035509Z",
     "start_time": "2025-05-30T21:20:05.018215Z"
    }
   },
   "cell_type": "code",
   "source": [
    "inputs = torch.tensor([1, 0, 1.5, 0], dtype=torch.float).to('cuda')\n",
    "model(inputs)"
   ],
   "id": "262ac21bc95c2bc2",
   "outputs": [
    {
     "data": {
      "text/plain": [
       "tensor([ 1.2869, -0.6917], device='cuda:0', grad_fn=<ViewBackward0>)"
      ]
     },
     "execution_count": 108,
     "metadata": {},
     "output_type": "execute_result"
    }
   ],
   "execution_count": 108
  },
  {
   "metadata": {
    "ExecuteTime": {
     "end_time": "2025-05-30T21:20:09.859334Z",
     "start_time": "2025-05-30T21:20:09.854574Z"
    }
   },
   "cell_type": "code",
   "source": [
    "inputs = torch.tensor([1.5, 0, 2, 0], dtype=torch.float).to('cuda')\n",
    "model(inputs)"
   ],
   "id": "76a12a6e61cfae63",
   "outputs": [
    {
     "data": {
      "text/plain": [
       "tensor([ 1.7780, -0.5530], device='cuda:0', grad_fn=<ViewBackward0>)"
      ]
     },
     "execution_count": 109,
     "metadata": {},
     "output_type": "execute_result"
    }
   ],
   "execution_count": 109
  },
  {
   "metadata": {
    "ExecuteTime": {
     "end_time": "2025-05-30T21:20:14.285664Z",
     "start_time": "2025-05-30T21:20:14.275709Z"
    }
   },
   "cell_type": "code",
   "source": [
    "inputs = torch.tensor([1, 0, 1, 0], dtype=torch.float).to('cuda')\n",
    "model(inputs)"
   ],
   "id": "a63859f6f6e8f1e6",
   "outputs": [
    {
     "data": {
      "text/plain": [
       "tensor([1.0495, 0.0116], device='cuda:0', grad_fn=<ViewBackward0>)"
      ]
     },
     "execution_count": 110,
     "metadata": {},
     "output_type": "execute_result"
    }
   ],
   "execution_count": 110
  },
  {
   "metadata": {
    "ExecuteTime": {
     "end_time": "2025-05-30T21:20:17.529354Z",
     "start_time": "2025-05-30T21:20:17.524405Z"
    }
   },
   "cell_type": "code",
   "source": [
    "inputs = torch.tensor([2, 0, 2, 0], dtype=torch.float).to('cuda')\n",
    "model(inputs)"
   ],
   "id": "df3f074632fdd66c",
   "outputs": [
    {
     "data": {
      "text/plain": [
       "tensor([2.0240, 0.0415], device='cuda:0', grad_fn=<ViewBackward0>)"
      ]
     },
     "execution_count": 111,
     "metadata": {},
     "output_type": "execute_result"
    }
   ],
   "execution_count": 111
  }
 ],
 "metadata": {
  "kernelspec": {
   "display_name": "Python 3",
   "language": "python",
   "name": "python3"
  },
  "language_info": {
   "codemirror_mode": {
    "name": "ipython",
    "version": 2
   },
   "file_extension": ".py",
   "mimetype": "text/x-python",
   "name": "python",
   "nbconvert_exporter": "python",
   "pygments_lexer": "ipython2",
   "version": "2.7.6"
  }
 },
 "nbformat": 4,
 "nbformat_minor": 5
}
